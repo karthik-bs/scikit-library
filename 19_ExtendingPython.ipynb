{
 "metadata": {
  "name": ""
 },
 "nbformat": 3,
 "nbformat_minor": 0,
 "worksheets": [
  {
   "cells": [
    {
     "cell_type": "markdown",
     "metadata": {},
     "source": [
      "<style>\n",
      "div.cell, div.text_cell_render{\n",
      "  max-width:750px;\n",
      "  margin-left:auto;\n",
      "  margin-right:auto;\n",
      "}\n",
      "\n",
      ".rendered_html\n",
      "{\n",
      "  font-size: 140%;\n",
      "  }\n",
      "\n",
      ".rendered_html li\n",
      "{\n",
      "  line-height: 1.8;\n",
      "  }\n",
      "\n",
      ".rendered_html h1, h2 {\n",
      "  text-align:center;\n",
      "  font-familly:\"Charis SIL\", serif;\n",
      "}\n",
      "</style>"
     ]
    },
    {
     "cell_type": "markdown",
     "metadata": {},
     "source": [
      "<small><i>This notebook was put together by [Jake Vanderplas](http://www.vanderplas.com) for UW's [Astro 599](http://www.astro.washington.edu/users/vanderplas/Astr599/) course. Source and license info is on [GitHub](https://github.com/jakevdp/2013_fall_ASTR599/).</i></small>"
     ]
    },
    {
     "cell_type": "markdown",
     "metadata": {},
     "source": [
      "# Extending Python with Compiled Code\n",
      "\n",
      "In a previous session, we talked about ways to get performance out of Python using vectorization strategies within NumPy.  Today we're going to talk about approaches which involve **interfacing Python to external compiled code**, or **converting Python code to compilable code**.  There are several different approaches.  We'll give examples of solving a problem by several means:\n",
      "\n",
      "- [Ctypes](http://docs.python.org/2/library/ctypes.html): the C-linking utilities included in the Python standard library\n",
      "- [F2Py](http://cens.ioc.ee/projects/f2py2e/usersguide/): the Fortran to Python utility which is bundled with NumPy\n",
      "- [Cython](http://cython.org/): a module that allows conversion of Python and Python-like code to C\n",
      "- [Numba](http://numba.pydata.org/): a Python to LLVM bytecode converter\n",
      "\n",
      "There is no way to go into depth on all of these, but I mainly just want to show some examples so that you know the types of problems they solve.  At the above links, you'll find more in-depth documentation and tutorials."
     ]
    },
    {
     "cell_type": "markdown",
     "metadata": {},
     "source": [
      "There are other options we won't talk about here, because they're not as useful for our purposes:\n",
      "\n",
      "- [Python C API](http://docs.python.org/2/c-api/): Python is implemented in C, and you can actually write C code which will compile to a Python module!  This is extremely low-level, and I would only recommend it if you enjoy pain (see Dan Foreman-Mackie's [blog post](http://dan.iel.fm/posts/python-c-extensions/) for a concise-as-possible introduction)\n",
      "- [SWIG](http://www.swig.org/): the Simplified Wrapper Interface Generator, can generate wrappers from a variety of low-level languages to a variety of high-level languages.  It's used heavily by LSST and other projects.\n",
      "- [Weave](http://docs.scipy.org/doc/scipy/reference/tutorial/weave.html): included in SciPy, weave is a method of putting C snippets within a Python program.  It's largely been superseded by Cython in practice.\n",
      "- [PyPy](http://pypy.org/): a JIT compiler for Python written in Python.  PyPy doesn't support the C backend which most scientific tools rely on, so it's not extremely useful for scientific computing.\n",
      "\n",
      "The optimal approach depends on the desired use-case.  We'll go through a few examples, from lowest to highest level:"
     ]
    },
    {
     "cell_type": "markdown",
     "metadata": {},
     "source": [
      "## Why Extend Python?\n",
      "\n",
      "There are a few reasons you might wish to use the tools outlined below:\n",
      "\n",
      "1. Sometimes vectorization of algorithms can lead to excessive memory usage, because it relies on temporary arrays to hold intermediate results.  Directly implementing the routine in compiled code can lead to more efficient computation.\n",
      "\n",
      "2. Sometimes problems cannot be implemented as vectorized NumPy operations.  An example is in tree-based algorithms.  This is why I used cython when I wrote the k-neighbors and kernel density estimation code within ``sklearn.neighbors``.\n",
      "\n",
      "3. Sometimes there are legacy code-bases that you don't want to have to re-implement: you'd much rather just write some sort of bindings to call the old code from within Python.\n",
      "\n",
      "We'll do a **brief demonstration** of some of these tools.  These tools do have a bit of a learning curve, so I'll provide references for where you might look to go deeper.  The purpose of this lecture is to get a taste of some of the better options for addressing these problems."
     ]
    },
    {
     "cell_type": "markdown",
     "metadata": {},
     "source": [
      "## Ctypes\n",
      "\n",
      "Ctypes is part of the standard library, and offers tools to **call routines from compiled libraries with Python**.  These can either be routines in your system libraries, or in shared libraries you compile yourself.  We'll see examples of both.\n",
      "\n",
      "One weakness of ctypes is that it can be **very platform-specific**.  For example, shared-library extensions are different from platform to platform (e.g. ``*.so`` on Linux, ``*.dll`` on Windows, ``*.dylib`` on OSX).  Other platform-by-platform issues like 32/64 bit can also make things difficult."
     ]
    },
    {
     "cell_type": "markdown",
     "metadata": {},
     "source": [
      "### Interfacing to System Libraries"
     ]
    },
    {
     "cell_type": "markdown",
     "metadata": {},
     "source": [
      "In Linux & Mac, you'll usually find the standard libraries here (remember that ``!`` lets us execute shell commands within IPython):"
     ]
    },
    {
     "cell_type": "code",
     "collapsed": false,
     "input": [
      "!ls /usr/lib/"
     ],
     "language": "python",
     "metadata": {},
     "outputs": [
      {
       "output_type": "stream",
       "stream": "stdout",
       "text": [
        "\u001b[34marc\u001b[m\u001b[m                               \u001b[31mlibmecabra.dylib\u001b[m\u001b[m\r\n",
        "\u001b[31march_tool\u001b[m\u001b[m                         \u001b[31mlibmenu.5.4.dylib\u001b[m\u001b[m\r\n",
        "bundle1.o                         \u001b[35mlibmenu.dylib\u001b[m\u001b[m\r\n",
        "\u001b[34mc++\u001b[m\u001b[m                               \u001b[35mlibmx.A.dylib\u001b[m\u001b[m\r\n",
        "charset.alias                     \u001b[35mlibmx.dylib\u001b[m\u001b[m\r\n",
        "\u001b[34mclang\u001b[m\u001b[m                             \u001b[31mlibncurses.5.4.dylib\u001b[m\u001b[m\r\n",
        "\u001b[35mcron\u001b[m\u001b[m                              \u001b[35mlibncurses.5.dylib\u001b[m\u001b[m\r\n",
        "crt1.10.5.o                       \u001b[35mlibncurses.dylib\u001b[m\u001b[m\r\n",
        "crt1.10.6.o                       \u001b[31mlibneon.27.dylib\u001b[m\u001b[m\r\n",
        "crt1.o                            \u001b[35mlibneon.dylib\u001b[m\u001b[m\r\n",
        "\u001b[34mdtrace\u001b[m\u001b[m                            \u001b[31mlibnetsnmp.15.1.2.dylib\u001b[m\u001b[m\r\n",
        "\u001b[31mdyld\u001b[m\u001b[m                              \u001b[35mlibnetsnmp.15.dylib\u001b[m\u001b[m\r\n",
        "dylib1.10.5.o                     \u001b[31mlibnetsnmp.25.dylib\u001b[m\u001b[m\r\n",
        "dylib1.o                          \u001b[31mlibnetsnmp.5.2.1.dylib\u001b[m\u001b[m\r\n",
        "\u001b[34mfreeradius\u001b[m\u001b[m                        \u001b[35mlibnetsnmp.5.dylib\u001b[m\u001b[m\r\n",
        "gcrt1.o                           \u001b[35mlibnetsnmp.dylib\u001b[m\u001b[m\r\n",
        "\u001b[34mgroff\u001b[m\u001b[m                             \u001b[31mlibnetsnmpagent.25.dylib\u001b[m\u001b[m\r\n",
        "lazydylib1.o                      \u001b[35mlibnetsnmpagent.dylib\u001b[m\u001b[m\r\n",
        "\u001b[31mlibACSClient.dylib\u001b[m\u001b[m                \u001b[31mlibnetsnmphelpers.25.dylib\u001b[m\u001b[m\r\n",
        "\u001b[31mlibBSDPClient.A.dylib\u001b[m\u001b[m             \u001b[35mlibnetsnmphelpers.dylib\u001b[m\u001b[m\r\n",
        "\u001b[35mlibBSDPClient.dylib\u001b[m\u001b[m               \u001b[31mlibnetsnmpmibs.25.dylib\u001b[m\u001b[m\r\n",
        "\u001b[31mlibCRFSuite.dylib\u001b[m\u001b[m                 \u001b[35mlibnetsnmpmibs.dylib\u001b[m\u001b[m\r\n",
        "\u001b[35mlibCRFSuite0.12.dylib\u001b[m\u001b[m             \u001b[31mlibnetsnmptrapd.25.dylib\u001b[m\u001b[m\r\n",
        "\u001b[31mlibCoreStorage.dylib\u001b[m\u001b[m              \u001b[35mlibnetsnmptrapd.dylib\u001b[m\u001b[m\r\n",
        "\u001b[31mlibDHCPServer.A.dylib\u001b[m\u001b[m             \u001b[31mlibobjc.A.dylib\u001b[m\u001b[m\r\n",
        "\u001b[35mlibDHCPServer.dylib\u001b[m\u001b[m               \u001b[35mlibobjc.dylib\u001b[m\u001b[m\r\n",
        "\u001b[31mlibDiagnosticMessagesClient.dylib\u001b[m\u001b[m \u001b[35mlibodbc.a\u001b[m\u001b[m\r\n",
        "\u001b[35mlibIOKit.A.dylib\u001b[m\u001b[m                  \u001b[31mlibodfde.dylib\u001b[m\u001b[m\r\n",
        "\u001b[35mlibIOKit.dylib\u001b[m\u001b[m                    \u001b[31mlibpam.1.dylib\u001b[m\u001b[m\r\n",
        "\u001b[31mlibLTO.dylib\u001b[m\u001b[m                      \u001b[31mlibpam.2.dylib\u001b[m\u001b[m\r\n",
        "\u001b[31mlibMatch.1.dylib\u001b[m\u001b[m                  \u001b[35mlibpam.dylib\u001b[m\u001b[m\r\n",
        "\u001b[35mlibMatch.dylib\u001b[m\u001b[m                    \u001b[31mlibpanel.5.4.dylib\u001b[m\u001b[m\r\n",
        "\u001b[31mlibOpenScriptingUtil.dylib\u001b[m\u001b[m        \u001b[35mlibpanel.dylib\u001b[m\u001b[m\r\n",
        "\u001b[31mlibScreenReader.dylib\u001b[m\u001b[m             \u001b[31mlibpcap.A.dylib\u001b[m\u001b[m\r\n",
        "\u001b[31mlibSystem.B.dylib\u001b[m\u001b[m                 \u001b[35mlibpcap.dylib\u001b[m\u001b[m\r\n",
        "\u001b[31mlibSystem.B_debug.dylib\u001b[m\u001b[m           \u001b[31mlibpcre.0.dylib\u001b[m\u001b[m\r\n",
        "\u001b[35mlibSystem.dylib\u001b[m\u001b[m                   \u001b[35mlibpcre.dylib\u001b[m\u001b[m\r\n",
        "\u001b[35mlibSystem_debug.dylib\u001b[m\u001b[m             \u001b[31mlibpcreposix.0.dylib\u001b[m\u001b[m\r\n",
        "\u001b[31mlibUniversalAccess.dylib\u001b[m\u001b[m          \u001b[35mlibpcreposix.dylib\u001b[m\u001b[m\r\n",
        "\u001b[31mlibXplugin.1.dylib\u001b[m\u001b[m                \u001b[31mlibpgtypes.3.2.dylib\u001b[m\u001b[m\r\n",
        "\u001b[35mlibXplugin.dylib\u001b[m\u001b[m                  \u001b[35mlibpgtypes.3.dylib\u001b[m\u001b[m\r\n",
        "\u001b[31mlibalias.A.dylib\u001b[m\u001b[m                  \u001b[35mlibpgtypes.dylib\u001b[m\u001b[m\r\n",
        "\u001b[35mlibalias.dylib\u001b[m\u001b[m                    \u001b[35mlibpoll.dylib\u001b[m\u001b[m\r\n",
        "\u001b[31mlibapr-1.0.4.5.dylib\u001b[m\u001b[m              \u001b[31mlibpq.5.4.dylib\u001b[m\u001b[m\r\n",
        "\u001b[35mlibapr-1.0.dylib\u001b[m\u001b[m                  \u001b[35mlibpq.5.dylib\u001b[m\u001b[m\r\n",
        "\u001b[35mlibapr-1.dylib\u001b[m\u001b[m                    \u001b[35mlibpq.dylib\u001b[m\u001b[m\r\n",
        "\u001b[31mlibaprutil-1.0.3.12.dylib\u001b[m\u001b[m         \u001b[35mlibproc.dylib\u001b[m\u001b[m\r\n",
        "\u001b[35mlibaprutil-1.0.dylib\u001b[m\u001b[m              libprofile_rt.a\r\n",
        "\u001b[35mlibaprutil-1.dylib\u001b[m\u001b[m                \u001b[31mlibprofile_rt.dylib\u001b[m\u001b[m\r\n",
        "\u001b[31mlibarchive.2.dylib\u001b[m\u001b[m                \u001b[35mlibpthread.dylib\u001b[m\u001b[m\r\n",
        "\u001b[35mlibarchive.dylib\u001b[m\u001b[m                  \u001b[35mlibpython.dylib\u001b[m\u001b[m\r\n",
        "\u001b[35mlibatlas.dylib\u001b[m\u001b[m                    \u001b[35mlibpython2.5.dylib\u001b[m\u001b[m\r\n",
        "\u001b[31mlibauditd.0.dylib\u001b[m\u001b[m                 \u001b[35mlibpython2.6.dylib\u001b[m\u001b[m\r\n",
        "\u001b[35mlibauditd.dylib\u001b[m\u001b[m                   \u001b[35mlibpython2.7.dylib\u001b[m\u001b[m\r\n",
        "\u001b[31mlibauto.dylib\u001b[m\u001b[m                     \u001b[31mlibquit.dylib\u001b[m\u001b[m\r\n",
        "\u001b[35mlibblas.dylib\u001b[m\u001b[m                     \u001b[35mlibreadline.dylib\u001b[m\u001b[m\r\n",
        "\u001b[31mlibbsm.0.dylib\u001b[m\u001b[m                    \u001b[31mlibresolv.9.dylib\u001b[m\u001b[m\r\n",
        "\u001b[35mlibbsm.dylib\u001b[m\u001b[m                      \u001b[35mlibresolv.dylib\u001b[m\u001b[m\r\n",
        "\u001b[35mlibbz2.1.0.5.dylib\u001b[m\u001b[m                \u001b[35mlibrpcsvc.dylib\u001b[m\u001b[m\r\n",
        "\u001b[31mlibbz2.1.0.dylib\u001b[m\u001b[m                  \u001b[35mlibruby.1.dylib\u001b[m\u001b[m\r\n",
        "\u001b[35mlibbz2.dylib\u001b[m\u001b[m                      \u001b[35mlibruby.dylib\u001b[m\u001b[m\r\n",
        "\u001b[31mlibc++.1.dylib\u001b[m\u001b[m                    \u001b[31mlibsandbox.1.dylib\u001b[m\u001b[m\r\n",
        "\u001b[35mlibc++.dylib\u001b[m\u001b[m                      \u001b[35mlibsandbox.dylib\u001b[m\u001b[m\r\n",
        "\u001b[31mlibc++abi.dylib\u001b[m\u001b[m                   \u001b[35mlibsasl2.2.0.1.dylib\u001b[m\u001b[m\r\n",
        "\u001b[35mlibc.dylib\u001b[m\u001b[m                        \u001b[35mlibsasl2.2.0.15.dylib\u001b[m\u001b[m\r\n",
        "\u001b[35mlibcblas.dylib\u001b[m\u001b[m                    \u001b[35mlibsasl2.2.0.21.dylib\u001b[m\u001b[m\r\n",
        "\u001b[35mlibcharset.1.0.0.dylib\u001b[m\u001b[m            \u001b[35mlibsasl2.2.0.22.dylib\u001b[m\u001b[m\r\n",
        "\u001b[31mlibcharset.1.dylib\u001b[m\u001b[m                \u001b[31mlibsasl2.2.dylib\u001b[m\u001b[m\r\n",
        "\u001b[35mlibcharset.dylib\u001b[m\u001b[m                  \u001b[35mlibsasl2.dylib\u001b[m\u001b[m\r\n",
        "\u001b[31mlibclang.dylib\u001b[m\u001b[m                    \u001b[35mlibsqlite3.0.dylib\u001b[m\u001b[m\r\n",
        "\u001b[35mlibclapack.dylib\u001b[m\u001b[m                  \u001b[31mlibsqlite3.dylib\u001b[m\u001b[m\r\n",
        "\u001b[35mlibcom_err.dylib\u001b[m\u001b[m                  \u001b[31mlibssl.0.9.7.dylib\u001b[m\u001b[m\r\n",
        "libcpp_kext.a                     \u001b[31mlibssl.0.9.8.dylib\u001b[m\u001b[m\r\n",
        "\u001b[31mlibcrypto.0.9.7.dylib\u001b[m\u001b[m             \u001b[35mlibssl.dylib\u001b[m\u001b[m\r\n",
        "\u001b[31mlibcrypto.0.9.8.dylib\u001b[m\u001b[m             \u001b[31mlibstdc++.6.0.9.dylib\u001b[m\u001b[m\r\n",
        "\u001b[35mlibcrypto.dylib\u001b[m\u001b[m                   \u001b[35mlibstdc++.6.dylib\u001b[m\u001b[m\r\n",
        "\u001b[31mlibcsfde.dylib\u001b[m\u001b[m                    \u001b[35mlibstdc++.dylib\u001b[m\u001b[m\r\n",
        "\u001b[31mlibcups.2.dylib\u001b[m\u001b[m                   \u001b[31mlibsvn_client-1.0.0.0.dylib\u001b[m\u001b[m\r\n",
        "\u001b[35mlibcups.dylib\u001b[m\u001b[m                     \u001b[35mlibsvn_client-1.0.dylib\u001b[m\u001b[m\r\n",
        "\u001b[31mlibcupscgi.1.dylib\u001b[m\u001b[m                \u001b[35mlibsvn_client-1.dylib\u001b[m\u001b[m\r\n",
        "\u001b[35mlibcupscgi.dylib\u001b[m\u001b[m                  \u001b[31mlibsvn_delta-1.0.0.0.dylib\u001b[m\u001b[m\r\n",
        "\u001b[31mlibcupsimage.2.dylib\u001b[m\u001b[m              \u001b[35mlibsvn_delta-1.0.dylib\u001b[m\u001b[m\r\n",
        "\u001b[35mlibcupsimage.dylib\u001b[m\u001b[m                \u001b[35mlibsvn_delta-1.dylib\u001b[m\u001b[m\r\n",
        "\u001b[31mlibcupsmime.1.dylib\u001b[m\u001b[m               \u001b[31mlibsvn_diff-1.0.0.0.dylib\u001b[m\u001b[m\r\n",
        "\u001b[35mlibcupsmime.dylib\u001b[m\u001b[m                 \u001b[35mlibsvn_diff-1.0.dylib\u001b[m\u001b[m\r\n",
        "\u001b[31mlibcupsppdc.1.dylib\u001b[m\u001b[m               \u001b[35mlibsvn_diff-1.dylib\u001b[m\u001b[m\r\n",
        "\u001b[35mlibcupsppdc.dylib\u001b[m\u001b[m                 \u001b[31mlibsvn_fs-1.0.0.0.dylib\u001b[m\u001b[m\r\n",
        "\u001b[35mlibcurl.3.dylib\u001b[m\u001b[m                   \u001b[35mlibsvn_fs-1.0.dylib\u001b[m\u001b[m\r\n",
        "\u001b[31mlibcurl.4.dylib\u001b[m\u001b[m                   \u001b[35mlibsvn_fs-1.dylib\u001b[m\u001b[m\r\n",
        "\u001b[35mlibcurl.dylib\u001b[m\u001b[m                     \u001b[31mlibsvn_fs_fs-1.0.0.0.dylib\u001b[m\u001b[m\r\n",
        "\u001b[35mlibcurses.dylib\u001b[m\u001b[m                   \u001b[35mlibsvn_fs_fs-1.0.dylib\u001b[m\u001b[m\r\n",
        "\u001b[35mlibdbm.dylib\u001b[m\u001b[m                      \u001b[35mlibsvn_fs_fs-1.dylib\u001b[m\u001b[m\r\n",
        "\u001b[35mlibdes425.dylib\u001b[m\u001b[m                   \u001b[31mlibsvn_fs_util-1.0.0.0.dylib\u001b[m\u001b[m\r\n",
        "\u001b[35mlibdl.dylib\u001b[m\u001b[m                       \u001b[35mlibsvn_fs_util-1.0.dylib\u001b[m\u001b[m\r\n",
        "\u001b[31mlibdtrace.dylib\u001b[m\u001b[m                   \u001b[35mlibsvn_fs_util-1.dylib\u001b[m\u001b[m\r\n",
        "\u001b[31mlibecpg.6.3.dylib\u001b[m\u001b[m                 \u001b[31mlibsvn_ra-1.0.0.0.dylib\u001b[m\u001b[m\r",
        "\r\n",
        "\u001b[35mlibecpg.6.dylib\u001b[m\u001b[m                   \u001b[35mlibsvn_ra-1.0.dylib\u001b[m\u001b[m\r\n",
        "\u001b[35mlibecpg.dylib\u001b[m\u001b[m                     \u001b[35mlibsvn_ra-1.dylib\u001b[m\u001b[m\r\n",
        "\u001b[31mlibecpg_compat.3.3.dylib\u001b[m\u001b[m          \u001b[31mlibsvn_ra_local-1.0.0.0.dylib\u001b[m\u001b[m\r\n",
        "\u001b[35mlibecpg_compat.3.dylib\u001b[m\u001b[m            \u001b[35mlibsvn_ra_local-1.0.dylib\u001b[m\u001b[m\r\n",
        "\u001b[35mlibecpg_compat.dylib\u001b[m\u001b[m              \u001b[35mlibsvn_ra_local-1.dylib\u001b[m\u001b[m\r\n",
        "\u001b[35mlibedit.2.dylib\u001b[m\u001b[m                   \u001b[31mlibsvn_ra_neon-1.0.0.0.dylib\u001b[m\u001b[m\r\n",
        "\u001b[35mlibedit.3.0.dylib\u001b[m\u001b[m                 \u001b[35mlibsvn_ra_neon-1.0.dylib\u001b[m\u001b[m\r\n",
        "\u001b[31mlibedit.3.dylib\u001b[m\u001b[m                   \u001b[35mlibsvn_ra_neon-1.dylib\u001b[m\u001b[m\r\n",
        "\u001b[35mlibedit.dylib\u001b[m\u001b[m                     \u001b[31mlibsvn_ra_svn-1.0.0.0.dylib\u001b[m\u001b[m\r\n",
        "\u001b[35mlibexpat.1.5.2.dylib\u001b[m\u001b[m              \u001b[35mlibsvn_ra_svn-1.0.dylib\u001b[m\u001b[m\r\n",
        "\u001b[31mlibexpat.1.dylib\u001b[m\u001b[m                  \u001b[35mlibsvn_ra_svn-1.dylib\u001b[m\u001b[m\r\n",
        "\u001b[35mlibexpat.dylib\u001b[m\u001b[m                    \u001b[31mlibsvn_repos-1.0.0.0.dylib\u001b[m\u001b[m\r\n",
        "\u001b[31mlibexslt.0.dylib\u001b[m\u001b[m                  \u001b[35mlibsvn_repos-1.0.dylib\u001b[m\u001b[m\r\n",
        "\u001b[35mlibexslt.dylib\u001b[m\u001b[m                    \u001b[35mlibsvn_repos-1.dylib\u001b[m\u001b[m\r\n",
        "\u001b[35mlibf77lapack.dylib\u001b[m\u001b[m                \u001b[31mlibsvn_subr-1.0.0.0.dylib\u001b[m\u001b[m\r\n",
        "\u001b[31mlibffi.dylib\u001b[m\u001b[m                      \u001b[35mlibsvn_subr-1.0.dylib\u001b[m\u001b[m\r\n",
        "\u001b[31mlibform.5.4.dylib\u001b[m\u001b[m                 \u001b[35mlibsvn_subr-1.dylib\u001b[m\u001b[m\r\n",
        "\u001b[35mlibform.dylib\u001b[m\u001b[m                     \u001b[31mlibsvn_wc-1.0.0.0.dylib\u001b[m\u001b[m\r\n",
        "\u001b[35mlibgcc_s.1.dylib\u001b[m\u001b[m                  \u001b[35mlibsvn_wc-1.0.dylib\u001b[m\u001b[m\r\n",
        "\u001b[35mlibgcc_s.10.4.dylib\u001b[m\u001b[m               \u001b[35mlibsvn_wc-1.dylib\u001b[m\u001b[m\r\n",
        "\u001b[31mlibgcc_s.10.5.dylib\u001b[m\u001b[m               \u001b[31mlibsysmon.dylib\u001b[m\u001b[m\r\n",
        "\u001b[31mlibgermantok.dylib\u001b[m\u001b[m                \u001b[35mlibtcl.dylib\u001b[m\u001b[m\r\n",
        "\u001b[31mlibgmalloc.B.dylib\u001b[m\u001b[m                \u001b[35mlibtcl8.5.dylib\u001b[m\u001b[m\r\n",
        "\u001b[35mlibgmalloc.dylib\u001b[m\u001b[m                  \u001b[35mlibtclstub8.5.a\u001b[m\u001b[m\r\n",
        "\u001b[35mlibgssapi_krb5.dylib\u001b[m\u001b[m              \u001b[35mlibtermcap.dylib\u001b[m\u001b[m\r\n",
        "\u001b[31mlibhunspell-1.2.0.0.0.dylib\u001b[m\u001b[m       \u001b[31mlibtidy.A.dylib\u001b[m\u001b[m\r\n",
        "\u001b[35mlibhunspell-1.2.0.dylib\u001b[m\u001b[m           \u001b[35mlibtidy.dylib\u001b[m\u001b[m\r\n",
        "\u001b[35mlibhunspell-1.2.dylib\u001b[m\u001b[m             \u001b[35mlibtk.dylib\u001b[m\u001b[m\r\n",
        "\u001b[35mlibiconv.2.4.0.dylib\u001b[m\u001b[m              \u001b[35mlibtk8.5.dylib\u001b[m\u001b[m\r\n",
        "\u001b[31mlibiconv.2.dylib\u001b[m\u001b[m                  \u001b[35mlibtkstub8.5.a\u001b[m\u001b[m\r\n",
        "\u001b[35mlibiconv.dylib\u001b[m\u001b[m                    \u001b[35mlibutil.dylib\u001b[m\u001b[m\r\n",
        "\u001b[31mlibicucore.A.dylib\u001b[m\u001b[m                \u001b[31mlibutil1.0.dylib\u001b[m\u001b[m\r\n",
        "\u001b[35mlibicucore.dylib\u001b[m\u001b[m                  \u001b[31mlibxar.1.dylib\u001b[m\u001b[m\r\n",
        "\u001b[35mlibinfo.dylib\u001b[m\u001b[m                     \u001b[35mlibxar.dylib\u001b[m\u001b[m\r\n",
        "\u001b[31mlibiodbc.2.1.18.dylib\u001b[m\u001b[m             \u001b[31mlibxml2.2.dylib\u001b[m\u001b[m\r\n",
        "\u001b[35mlibiodbc.2.dylib\u001b[m\u001b[m                  \u001b[35mlibxml2.dylib\u001b[m\u001b[m\r\n",
        "libiodbc.a                        \u001b[31mlibxsanmgrcommon.dylib\u001b[m\u001b[m\r\n",
        "\u001b[35mlibiodbc.dylib\u001b[m\u001b[m                    \u001b[31mlibxslt.1.dylib\u001b[m\u001b[m\r\n",
        "\u001b[31mlibiodbcinst.2.1.18.dylib\u001b[m\u001b[m         \u001b[35mlibxslt.dylib\u001b[m\u001b[m\r\n",
        "\u001b[35mlibiodbcinst.2.dylib\u001b[m\u001b[m              liby.a\r\n",
        "libiodbcinst.a                    \u001b[35mlibz.1.1.3.dylib\u001b[m\u001b[m\r\n",
        "\u001b[35mlibiodbcinst.dylib\u001b[m\u001b[m                \u001b[31mlibz.1.2.5.dylib\u001b[m\u001b[m\r\n",
        "\u001b[31mlibipconfig.dylib\u001b[m\u001b[m                 \u001b[35mlibz.1.dylib\u001b[m\u001b[m\r\n",
        "\u001b[31mlibipsec.A.dylib\u001b[m\u001b[m                  \u001b[35mlibz.dylib\u001b[m\u001b[m\r\n",
        "\u001b[35mlibipsec.dylib\u001b[m\u001b[m                    \u001b[34mpam\u001b[m\u001b[m\r\n",
        "\u001b[35mlibk5crypto.dylib\u001b[m\u001b[m                 \u001b[34mphp\u001b[m\u001b[m\r\n",
        "libkmod.a                         \u001b[34mpkgconfig\u001b[m\u001b[m\r\n",
        "libkmodc++.a                      \u001b[34mpostgresql\u001b[m\u001b[m\r\n",
        "\u001b[35mlibkrb4.dylib\u001b[m\u001b[m                     \u001b[35mpython2.5\u001b[m\u001b[m\r\n",
        "\u001b[35mlibkrb5.dylib\u001b[m\u001b[m                     \u001b[35mpython2.6\u001b[m\u001b[m\r\n",
        "\u001b[35mlibkrb524.dylib\u001b[m\u001b[m                   \u001b[35mpython2.7\u001b[m\u001b[m\r\n",
        "\u001b[35mlibkrb5support.dylib\u001b[m\u001b[m              \u001b[34mrpcsvc\u001b[m\u001b[m\r\n",
        "libl.a                            \u001b[35mruby\u001b[m\u001b[m\r\n",
        "\u001b[31mliblangid.dylib\u001b[m\u001b[m                   \u001b[34msa\u001b[m\u001b[m\r\n",
        "\u001b[35mliblapack.dylib\u001b[m\u001b[m                   \u001b[34msasl2\u001b[m\u001b[m\r\n",
        "\u001b[35mliblber.dylib\u001b[m\u001b[m                     \u001b[35msqlite3\u001b[m\u001b[m\r\n",
        "\u001b[35mlibldap.dylib\u001b[m\u001b[m                     \u001b[34msystem\u001b[m\u001b[m\r\n",
        "\u001b[35mlibldap_r.dylib\u001b[m\u001b[m                   \u001b[35mtclConfig.sh\u001b[m\u001b[m\r\n",
        "\u001b[35mlibm.dylib\u001b[m\u001b[m                        \u001b[35mtkConfig.sh\u001b[m\u001b[m\r\n",
        "\u001b[31mlibmecab.1.0.0.dylib\u001b[m\u001b[m              \u001b[34mzsh\u001b[m\u001b[m\r\n",
        "\u001b[35mlibmecab.dylib\u001b[m\u001b[m\r\n"
       ]
      }
     ],
     "prompt_number": 1
    },
    {
     "cell_type": "markdown",
     "metadata": {},
     "source": [
      "CTypes lets you link to any of these libraries and call the functions directly:"
     ]
    },
    {
     "cell_type": "code",
     "collapsed": false,
     "input": [
      "from ctypes import CDLL\n",
      "\n",
      "libc_name = 'libc.dylib'  # OSX\n",
      "# libc_name = 'libc.so.6'  # Linux\n",
      "# libc_name = 'libc.dll'  # Windows\n",
      "\n",
      "libc = CDLL(libc_name)"
     ],
     "language": "python",
     "metadata": {},
     "outputs": [],
     "prompt_number": 2
    },
    {
     "cell_type": "code",
     "collapsed": false,
     "input": [
      "libc.time"
     ],
     "language": "python",
     "metadata": {},
     "outputs": [
      {
       "metadata": {},
       "output_type": "pyout",
       "prompt_number": 3,
       "text": [
        "<_FuncPtr object at 0x1021a1ae0>"
       ]
      }
     ],
     "prompt_number": 3
    },
    {
     "cell_type": "code",
     "collapsed": false,
     "input": [
      "print \"Seconds since January 1, 1970:\"\n",
      "print libc.time()"
     ],
     "language": "python",
     "metadata": {},
     "outputs": [
      {
       "output_type": "stream",
       "stream": "stdout",
       "text": [
        "Seconds since January 1, 1970:\n",
        "1384797127\n"
       ]
      }
     ],
     "prompt_number": 4
    },
    {
     "cell_type": "markdown",
     "metadata": {},
     "source": [
      "### Wrapping your own functions\n",
      "You can do more than simply wrapping the functionality of system libraries: you can also create your own C functions and wrap them with CTypes (this will require having a C compiler installed):"
     ]
    },
    {
     "cell_type": "code",
     "collapsed": false,
     "input": [
      "%%file my_sum.c\n",
      "#include <stdio.h>\n",
      "\n",
      "// sum all the values in the array x\n",
      "// x is a pointer to a memory block \n",
      "// of length n\n",
      "int sum(int *x, int n)\n",
      "{\n",
      "  int i, counter;\n",
      "  counter = 0;\n",
      "  for(i=0; i<n; i++)\n",
      "    {\n",
      "      counter += x[i];\n",
      "    }\n",
      "  return counter;\n",
      "}"
     ],
     "language": "python",
     "metadata": {},
     "outputs": [
      {
       "output_type": "stream",
       "stream": "stdout",
       "text": [
        "Overwriting my_sum.c\n"
       ]
      }
     ],
     "prompt_number": 5
    },
    {
     "cell_type": "code",
     "collapsed": false,
     "input": [
      "%%bash\n",
      "gcc -c my_sum.c\n",
      "gcc -shared -o my_sum.so my_sum.o"
     ],
     "language": "python",
     "metadata": {},
     "outputs": [],
     "prompt_number": 6
    },
    {
     "cell_type": "code",
     "collapsed": false,
     "input": [
      "!ls my_sum.*"
     ],
     "language": "python",
     "metadata": {},
     "outputs": [
      {
       "output_type": "stream",
       "stream": "stdout",
       "text": [
        "my_sum.c  my_sum.o  \u001b[31mmy_sum.so\u001b[m\u001b[m\r\n"
       ]
      }
     ],
     "prompt_number": 7
    },
    {
     "cell_type": "markdown",
     "metadata": {},
     "source": [
      "Now we'll use the CTypes API to create Python objects that can be passed to this function:"
     ]
    },
    {
     "cell_type": "code",
     "collapsed": false,
     "input": [
      "from ctypes import CDLL, c_void_p\n",
      "import numpy as np\n",
      "\n",
      "my_sum=CDLL('my_sum.so')\n",
      "\n",
      "a = np.arange(10, dtype=np.int32)\n",
      "adata = a.ctypes.data_as(c_void_p)\n",
      "asize = a.size\n",
      "\n",
      "print my_sum.sum(adata, asize)\n",
      "print a.sum()"
     ],
     "language": "python",
     "metadata": {},
     "outputs": [
      {
       "output_type": "stream",
       "stream": "stdout",
       "text": [
        "45\n",
        "45\n"
       ]
      }
     ],
     "prompt_number": 8
    },
    {
     "cell_type": "markdown",
     "metadata": {},
     "source": [
      "### User-defined Types\n",
      "Here we've used just simple built-in numerical types: we can also do more complicated things like defining C Structures within Python:"
     ]
    },
    {
     "cell_type": "code",
     "collapsed": false,
     "input": [
      "%%file my_sum2.c\n",
      "#include <stdio.h>\n",
      "\n",
      "// Define a simple array struct, containing\n",
      "// a pointer and a length\n",
      "struct Array{\n",
      "   int *x;\n",
      "   int n;\n",
      "};\n",
      "\n",
      "// Sum the values in the array struct\n",
      "int sum(struct Array a)\n",
      "{\n",
      "  int counter, i;\n",
      "  counter = 0;\n",
      "  for(i=0; i<a.n; i++)\n",
      "    {\n",
      "      counter += a.x[i];\n",
      "    }\n",
      "  return counter;\n",
      "}\n",
      " "
     ],
     "language": "python",
     "metadata": {},
     "outputs": [
      {
       "output_type": "stream",
       "stream": "stdout",
       "text": [
        "Overwriting my_sum2.c\n"
       ]
      }
     ],
     "prompt_number": 9
    },
    {
     "cell_type": "code",
     "collapsed": false,
     "input": [
      "%%bash\n",
      "gcc -c my_sum2.c\n",
      "gcc -shared -o my_sum2.so my_sum2.o"
     ],
     "language": "python",
     "metadata": {},
     "outputs": [],
     "prompt_number": 10
    },
    {
     "cell_type": "markdown",
     "metadata": {},
     "source": [
      "Now the function requires us to pass a structure as an argument.  To handle this, we need to create a mirror of this structure within our Python script.  This can be done via the CTypes API:"
     ]
    },
    {
     "cell_type": "code",
     "collapsed": false,
     "input": [
      "from ctypes import Structure, POINTER, c_int\n",
      "\n",
      "# Here's our C structure defined in Python\n",
      "class Array(Structure):\n",
      "    _fields_ = (\"x\", c_void_p), (\"n\", c_int)\n",
      "    \n",
      "my_sum2=CDLL('my_sum2.so')\n",
      "    \n",
      "a = np.arange(10, dtype=np.int32)\n",
      "arr = Array(a.ctypes.data_as(c_void_p), a.size)\n",
      "\n",
      "print my_sum2.sum(arr)\n",
      "print a.sum()"
     ],
     "language": "python",
     "metadata": {},
     "outputs": [
      {
       "output_type": "stream",
       "stream": "stdout",
       "text": [
        "45\n",
        "45\n"
       ]
      }
     ],
     "prompt_number": 11
    },
    {
     "cell_type": "markdown",
     "metadata": {},
     "source": [
      "We're starting to see how this can be helpful, but what if we want something more involved?"
     ]
    },
    {
     "cell_type": "markdown",
     "metadata": {},
     "source": [
      "### Interfacing to LAPACK functions\n",
      "\n",
      "Let's interface to the system LAPACK (Linear Algebra Package) routines and solve a linear equation.  This is the type of function you might write in order to interface with a code someone else has written.\n",
      "\n",
      "We'll use the DGESV routine from LAPACK: the Double precision GEneral SolVer for linear equations. This is a standard routine found on most computers.  See http://www.netlib.no/netlib/lapack/double/dgesv.f for a description of the call signature."
     ]
    },
    {
     "cell_type": "code",
     "collapsed": false,
     "input": [
      "from ctypes import CDLL, c_int, c_void_p, byref\n",
      "import numpy as np\n",
      "\n",
      "def solve(M, b):\n",
      "    \"\"\"Solve the linear equation M x = b using LAPACK's DGESV\"\"\"\n",
      "    # Interface to the LAPACK system library\n",
      "    # This may be different depending on your operating system\n",
      "    lapack = CDLL('liblapack.dylib')\n",
      "    \n",
      "    # Make sure M is double precision fortran-ordered\n",
      "    M = np.asarray(M, dtype=np.float64, order='F')\n",
      "    \n",
      "    # Make a copy of b.  It will be overwritten with the result\n",
      "    b = np.array(b, dtype=np.float64, copy=True)\n",
      "    n = b.size\n",
      "    \n",
      "    # We could generalize this, but we'll do a simple problem for now\n",
      "    assert M.shape == (n, n)\n",
      "    assert b.shape == (n,)\n",
      "    \n",
      "    # prepare the variables for dgesv.\n",
      "    size = c_int(n)\n",
      "    one = c_int(1)\n",
      "    info = c_int(0)\n",
      "    lapack.dgesv(byref(size), # size of the problem\n",
      "                 byref(one), # number of columns of b\n",
      "                 M.ctypes.data_as(c_void_p), # M data array\n",
      "                 byref(size), # size of the problem\n",
      "                 (n * c_int)(), # integer work array\n",
      "                 b.ctypes.data_as(c_void_p), # b data array\n",
      "                 byref(size), # size of b\n",
      "                 byref(info)) # exit flag\n",
      "    return b"
     ],
     "language": "python",
     "metadata": {},
     "outputs": [],
     "prompt_number": 12
    },
    {
     "cell_type": "code",
     "collapsed": false,
     "input": [
      "X = np.random.random((5, 5))\n",
      "b = np.random.random(5)\n",
      "\n",
      "print solve(X, b)"
     ],
     "language": "python",
     "metadata": {},
     "outputs": [
      {
       "output_type": "stream",
       "stream": "stdout",
       "text": [
        "[ 1.18799324 -0.49926094  1.43864153 -1.71137939  1.89825396]\n"
       ]
      }
     ],
     "prompt_number": 13
    },
    {
     "cell_type": "code",
     "collapsed": false,
     "input": [
      "print np.linalg.solve(X, b)"
     ],
     "language": "python",
     "metadata": {},
     "outputs": [
      {
       "output_type": "stream",
       "stream": "stdout",
       "text": [
        "[ 1.18799324 -0.49926094  1.43864153 -1.71137939  1.89825396]\n"
       ]
      }
     ],
     "prompt_number": 14
    },
    {
     "cell_type": "markdown",
     "metadata": {},
     "source": [
      "The routine ``np.linalg.solve`` actually uses this same routine (depending on your install options), so it should give precisely the same results.  You'd never want to do this for LAPACK routines (they're already in numpy, after all), but this sort of thing can come in handy to call legacy C/Fortran code from Python."
     ]
    },
    {
     "cell_type": "markdown",
     "metadata": {},
     "source": [
      "### Resources to explore this more:\n",
      "- [CTypes Documentation](http://docs.python.org/2/library/ctypes.html)\n",
      "- [CTypes Tutorial](http://python.net/crew/theller/ctypes/tutorial.html)\n",
      "- [Scipy Cookbook: Ctypes](http://wiki.scipy.org/Cookbook/Ctypes)\n",
      "- [Sage Ctypes Documentation](http://www.sagemath.org/doc/numerical_sage/ctypes.html)"
     ]
    },
    {
     "cell_type": "markdown",
     "metadata": {},
     "source": [
      "## F2Py\n",
      "\n",
      "F2Py is a submodule of NumPy, and is designed to create easy interfaces to Fortran code (though it will also work with C).  We can do something similar to above, but use ``f2py`` rather than ``gcc`` to compile it *(note that this will require you to have a Fortran compiler installed)*."
     ]
    },
    {
     "cell_type": "markdown",
     "metadata": {},
     "source": [
      "### A simple example\n",
      "We'll start with a simple example that computes the first N fibonacci numbers.  Here's a Python version of the function:"
     ]
    },
    {
     "cell_type": "code",
     "collapsed": false,
     "input": [
      "import numpy as np\n",
      "\n",
      "def fib_py(N):\n",
      "    x = np.zeros(N, dtype=float)\n",
      "    for i in range(N):\n",
      "        if i == 0:\n",
      "            x[i] = 0\n",
      "        elif i == 1:\n",
      "            x[i] = 1\n",
      "        else:\n",
      "            x[i] = x[i - 1] + x[i - 2]\n",
      "    return x"
     ],
     "language": "python",
     "metadata": {},
     "outputs": [],
     "prompt_number": 15
    },
    {
     "cell_type": "code",
     "collapsed": false,
     "input": [
      "print fib_py(10)"
     ],
     "language": "python",
     "metadata": {},
     "outputs": [
      {
       "output_type": "stream",
       "stream": "stdout",
       "text": [
        "[  0.   1.   1.   2.   3.   5.   8.  13.  21.  34.]\n"
       ]
      }
     ],
     "prompt_number": 16
    },
    {
     "cell_type": "code",
     "collapsed": false,
     "input": [
      "%timeit fib_py(10000)"
     ],
     "language": "python",
     "metadata": {},
     "outputs": [
      {
       "output_type": "stream",
       "stream": "stdout",
       "text": [
        "100 loops, best of 3: 8.66 ms per loop\n"
       ]
      },
      {
       "output_type": "stream",
       "stream": "stderr",
       "text": [
        "-c:11: RuntimeWarning: overflow encountered in double_scalars\n"
       ]
      }
     ],
     "prompt_number": 17
    },
    {
     "cell_type": "markdown",
     "metadata": {},
     "source": [
      "Now we'll write the same routine in Fortran:"
     ]
    },
    {
     "cell_type": "code",
     "collapsed": false,
     "input": [
      "%%file fib.f\n",
      "\n",
      "      subroutine fib(A,N)\n",
      "      integer N\n",
      "      double precision A(N)\n",
      "      do i=1,N\n",
      "         if (i.EQ.1) then\n",
      "            A(i) = 0.0D0\n",
      "         elseif (i.EQ.2) then\n",
      "            A(i) = 1.0D0\n",
      "         else\n",
      "            A(i) = A(i-1) + A(i-2)\n",
      "         endif\n",
      "      enddo\n",
      "      end"
     ],
     "language": "python",
     "metadata": {},
     "outputs": [
      {
       "output_type": "stream",
       "stream": "stdout",
       "text": [
        "Overwriting fib.f\n"
       ]
      }
     ],
     "prompt_number": 18
    },
    {
     "cell_type": "markdown",
     "metadata": {},
     "source": [
      "We'll compile this from the command line using ``f2py``:"
     ]
    },
    {
     "cell_type": "code",
     "collapsed": false,
     "input": [
      "!f2py -c -m fib fib.f"
     ],
     "language": "python",
     "metadata": {},
     "outputs": [
      {
       "output_type": "stream",
       "stream": "stdout",
       "text": [
        "\u001b[39mrunning build\u001b[0m\r\n",
        "\u001b[39mrunning config_cc\u001b[0m\r\n",
        "\u001b[39munifing config_cc, config, build_clib, build_ext, build commands --compiler options\u001b[0m\r\n",
        "\u001b[39mrunning config_fc\u001b[0m\r\n",
        "\u001b[39munifing config_fc, config, build_clib, build_ext, build commands --fcompiler options\u001b[0m\r\n",
        "\u001b[39mrunning build_src\u001b[0m\r\n",
        "\u001b[39mbuild_src\u001b[0m\r\n",
        "\u001b[39mbuilding extension \"fib\" sources\u001b[0m\r\n",
        "\u001b[39mf2py options: []\u001b[0m\r\n",
        "\u001b[39mf2py:> /var/folders/_q/9lrsb4wj1b5gy71vm32kqjy80000gn/T/tmpe_sWoI/src.macosx-10.5-x86_64-2.7/fibmodule.c\u001b[0m\r\n",
        "\u001b[39mcreating /var/folders/_q/9lrsb4wj1b5gy71vm32kqjy80000gn/T/tmpe_sWoI\u001b[0m\r\n",
        "\u001b[39mcreating /var/folders/_q/9lrsb4wj1b5gy71vm32kqjy80000gn/T/tmpe_sWoI/src.macosx-10.5-x86_64-2.7\u001b[0m\r\n"
       ]
      },
      {
       "output_type": "stream",
       "stream": "stdout",
       "text": [
        "Reading fortran codes...\r\n",
        "\tReading file 'fib.f' (format:fix,strict)\r\n",
        "Post-processing...\r\n",
        "\tBlock: fib\r\n",
        "\t\t\tBlock: fib\r\n",
        "Post-processing (stage 2)...\r\n",
        "Building modules...\r\n",
        "\tBuilding module \"fib\"...\r\n",
        "\t\tConstructing wrapper function \"fib\"...\r\n",
        "\t\t  fib(a,[n])\r\n",
        "\tWrote C/API module \"fib\" to file \"/var/folders/_q/9lrsb4wj1b5gy71vm32kqjy80000gn/T/tmpe_sWoI/src.macosx-10.5-x86_64-2.7/fibmodule.c\"\r\n",
        "\u001b[39m  adding '/var/folders/_q/9lrsb4wj1b5gy71vm32kqjy80000gn/T/tmpe_sWoI/src.macosx-10.5-x86_64-2.7/fortranobject.c' to sources.\u001b[0m\r\n",
        "\u001b[39m  adding '/var/folders/_q/9lrsb4wj1b5gy71vm32kqjy80000gn/T/tmpe_sWoI/src.macosx-10.5-x86_64-2.7' to include_dirs.\u001b[0m\r\n",
        "\u001b[39mcopying /Users/jakevdp/anaconda/lib/python2.7/site-packages/numpy/f2py/src/fortranobject.c -> /var/folders/_q/9lrsb4wj1b5gy71vm32kqjy80000gn/T/tmpe_sWoI/src.macosx-10.5-x86_64-2.7\u001b[0m\r\n",
        "\u001b[39mcopying /Users/jakevdp/anaconda/lib/python2.7/site-packages/numpy/f2py/src/fortranobject.h -> /var/folders/_q/9lrsb4wj1b5gy71vm32kqjy80000gn/T/tmpe_sWoI/src.macosx-10.5-x86_64-2.7\u001b[0m\r\n",
        "\u001b[39mbuild_src: building npy-pkg config files\u001b[0m\r\n",
        "\u001b[39mrunning build_ext\u001b[0m\r\n",
        "\u001b[39mcustomize UnixCCompiler\u001b[0m\r\n",
        "\u001b[39mcustomize UnixCCompiler using build_ext\u001b[0m\r\n"
       ]
      },
      {
       "output_type": "stream",
       "stream": "stdout",
       "text": [
        "\u001b[39mcustomize Gnu95FCompiler\u001b[0m\r\n",
        "\u001b[32mFound executable /usr/local/bin/gfortran\u001b[0m\r\n"
       ]
      },
      {
       "output_type": "stream",
       "stream": "stdout",
       "text": [
        "\u001b[39mcustomize Gnu95FCompiler\u001b[0m\r\n"
       ]
      },
      {
       "output_type": "stream",
       "stream": "stdout",
       "text": [
        "\u001b[39mcustomize Gnu95FCompiler using build_ext\u001b[0m\r\n",
        "\u001b[39mbuilding 'fib' extension\u001b[0m\r\n",
        "\u001b[39mcompiling C sources\u001b[0m\r\n",
        "\u001b[39mC compiler: /usr/bin/clang -fno-strict-aliasing -I/Users/jakevdp/anaconda/include -arch x86_64 -DNDEBUG -g -fwrapv -O3 -Wall -Wstrict-prototypes\r\n",
        "\u001b[0m\r\n",
        "\u001b[39mcreating /var/folders/_q/9lrsb4wj1b5gy71vm32kqjy80000gn/T/tmpe_sWoI/var\u001b[0m\r\n",
        "\u001b[39mcreating /var/folders/_q/9lrsb4wj1b5gy71vm32kqjy80000gn/T/tmpe_sWoI/var/folders\u001b[0m\r\n",
        "\u001b[39mcreating /var/folders/_q/9lrsb4wj1b5gy71vm32kqjy80000gn/T/tmpe_sWoI/var/folders/_q\u001b[0m\r\n",
        "\u001b[39mcreating /var/folders/_q/9lrsb4wj1b5gy71vm32kqjy80000gn/T/tmpe_sWoI/var/folders/_q/9lrsb4wj1b5gy71vm32kqjy80000gn\u001b[0m\r\n",
        "\u001b[39mcreating /var/folders/_q/9lrsb4wj1b5gy71vm32kqjy80000gn/T/tmpe_sWoI/var/folders/_q/9lrsb4wj1b5gy71vm32kqjy80000gn/T\u001b[0m\r\n",
        "\u001b[39mcreating /var/folders/_q/9lrsb4wj1b5gy71vm32kqjy80000gn/T/tmpe_sWoI/var/folders/_q/9lrsb4wj1b5gy71vm32kqjy80000gn/T/tmpe_sWoI\u001b[0m\r\n",
        "\u001b[39mcreating /var/folders/_q/9lrsb4wj1b5gy71vm32kqjy80000gn/T/tmpe_sWoI/var/folders/_q/9lrsb4wj1b5gy71vm32kqjy80000gn/T/tmpe_sWoI/src.macosx-10.5-x86_64-2.7\u001b[0m\r\n",
        "\u001b[39mcompile options: '-I/var/folders/_q/9lrsb4wj1b5gy71vm32kqjy80000gn/T/tmpe_sWoI/src.macosx-10.5-x86_64-2.7 -I/Users/jakevdp/anaconda/lib/python2.7/site-packages/numpy/core/include -I/Users/jakevdp/anaconda/include/python2.7 -c'\u001b[0m\r\n",
        "\u001b[39mclang: /var/folders/_q/9lrsb4wj1b5gy71vm32kqjy80000gn/T/tmpe_sWoI/src.macosx-10.5-x86_64-2.7/fortranobject.c\u001b[0m\r\n"
       ]
      },
      {
       "output_type": "stream",
       "stream": "stdout",
       "text": [
        "In file included from /var/folders/_q/9lrsb4wj1b5gy71vm32kqjy80000gn/T/tmpe_sWoI/src.macosx-10.5-x86_64-2.7/fortranobject.c:2:\r\n",
        "In file included from /var/folders/_q/9lrsb4wj1b5gy71vm32kqjy80000gn/T/tmpe_sWoI/src.macosx-10.5-x86_64-2.7/fortranobject.h:13:\r\n",
        "In file included from /Users/jakevdp/anaconda/lib/python2.7/site-packages/numpy/core/include/numpy/arrayobject.h:15:\r\n",
        "In file included from /Users/jakevdp/anaconda/lib/python2.7/site-packages/numpy/core/include/numpy/ndarrayobject.h:17:\r\n",
        "In file included from /Users/jakevdp/anaconda/lib/python2.7/site-packages/numpy/core/include/numpy/ndarraytypes.h:1728:\r\n",
        "/Users/jakevdp/anaconda/lib/python2.7/site-packages/numpy/core/include/numpy/npy_deprecated_api.h:11:2: warning: \"Using deprecated NumPy API, disable it by #defining NPY_NO_DEPRECATED_API NPY_1_7_API_VERSION\" [-W#warnings]\r\n",
        "#warning \"Using deprecated NumPy API, disable it by #defining NPY_NO_DEPRECATED_API NPY_1_7_API_VERSION\"\r\n",
        " ^\r\n"
       ]
      },
      {
       "output_type": "stream",
       "stream": "stdout",
       "text": [
        "/var/folders/_q/9lrsb4wj1b5gy71vm32kqjy80000gn/T/tmpe_sWoI/src.macosx-10.5-x86_64-2.7/fortranobject.c:338:30: warning: equality comparison with extraneous parentheses [-Wparentheses-equality]\r\n",
        "        if ((fp->defs[i].func==NULL)) {\r\n",
        "             ~~~~~~~~~~~~~~~~^~~~~~\r\n",
        "/var/folders/_q/9lrsb4wj1b5gy71vm32kqjy80000gn/T/tmpe_sWoI/src.macosx-10.5-x86_64-2.7/fortranobject.c:338:30: note: remove extraneous parentheses around the comparison to silence this warning\r\n",
        "        if ((fp->defs[i].func==NULL)) {\r\n",
        "            ~                ^     ~\r\n",
        "/var/folders/_q/9lrsb4wj1b5gy71vm32kqjy80000gn/T/tmpe_sWoI/src.macosx-10.5-x86_64-2.7/fortranobject.c:338:30: note: use '=' to turn this equality comparison into an assignment\r\n",
        "        if ((fp->defs[i].func==NULL)) {\r\n",
        "                             ^~\r\n",
        "                             =\r\n"
       ]
      },
      {
       "output_type": "stream",
       "stream": "stdout",
       "text": [
        "2 warnings generated.\r\n",
        "\u001b[39mclang: /var/folders/_q/9lrsb4wj1b5gy71vm32kqjy80000gn/T/tmpe_sWoI/src.macosx-10.5-x86_64-2.7/fibmodule.c\u001b[0m\r\n"
       ]
      },
      {
       "output_type": "stream",
       "stream": "stdout",
       "text": [
        "In file included from /var/folders/_q/9lrsb4wj1b5gy71vm32kqjy80000gn/T/tmpe_sWoI/src.macosx-10.5-x86_64-2.7/fibmodule.c:18:\r\n",
        "In file included from /var/folders/_q/9lrsb4wj1b5gy71vm32kqjy80000gn/T/tmpe_sWoI/src.macosx-10.5-x86_64-2.7/fortranobject.h:13:\r\n",
        "In file included from /Users/jakevdp/anaconda/lib/python2.7/site-packages/numpy/core/include/numpy/arrayobject.h:15:\r\n",
        "In file included from /Users/jakevdp/anaconda/lib/python2.7/site-packages/numpy/core/include/numpy/ndarrayobject.h:17:\r\n",
        "In file included from /Users/jakevdp/anaconda/lib/python2.7/site-packages/numpy/core/include/numpy/ndarraytypes.h:1728:\r\n",
        "/Users/jakevdp/anaconda/lib/python2.7/site-packages/numpy/core/include/numpy/npy_deprecated_api.h:11:2: warning: \"Using deprecated NumPy API, disable it by #defining NPY_NO_DEPRECATED_API NPY_1_7_API_VERSION\" [-W#warnings]\r\n",
        "#warning \"Using deprecated NumPy API, disable it by #defining NPY_NO_DEPRECATED_API NPY_1_7_API_VERSION\"\r\n",
        " ^\r\n",
        "/var/folders/_q/9lrsb4wj1b5gy71vm32kqjy80000gn/T/tmpe_sWoI/src.macosx-10.5-x86_64-2.7/fibmodule.c:111:12: warning: unused function 'f2py_size' [-Wunused-function]\r\n",
        "static int f2py_size(PyArrayObject* var, ...)\r\n",
        "           ^\r\n"
       ]
      },
      {
       "output_type": "stream",
       "stream": "stdout",
       "text": [
        "2 warnings generated.\r\n",
        "\u001b[39mcompiling Fortran sources\u001b[0m\r\n",
        "\u001b[39mFortran f77 compiler: /usr/local/bin/gfortran -Wall -ffixed-form -fno-second-underscore -m64 -fPIC -O3 -funroll-loops\r\n",
        "Fortran f90 compiler: /usr/local/bin/gfortran -Wall -fno-second-underscore -m64 -fPIC -O3 -funroll-loops\r\n",
        "Fortran fix compiler: /usr/local/bin/gfortran -Wall -ffixed-form -fno-second-underscore -Wall -fno-second-underscore -m64 -fPIC -O3 -funroll-loops\u001b[0m\r\n",
        "\u001b[39mcompile options: '-I/var/folders/_q/9lrsb4wj1b5gy71vm32kqjy80000gn/T/tmpe_sWoI/src.macosx-10.5-x86_64-2.7 -I/Users/jakevdp/anaconda/lib/python2.7/site-packages/numpy/core/include -I/Users/jakevdp/anaconda/include/python2.7 -c'\u001b[0m\r\n",
        "\u001b[39mgfortran:f77: fib.f\u001b[0m\r\n"
       ]
      },
      {
       "output_type": "stream",
       "stream": "stdout",
       "text": [
        "\u001b[39m/usr/local/bin/gfortran -Wall -m64 -Wall -undefined dynamic_lookup -bundle /var/folders/_q/9lrsb4wj1b5gy71vm32kqjy80000gn/T/tmpe_sWoI/var/folders/_q/9lrsb4wj1b5gy71vm32kqjy80000gn/T/tmpe_sWoI/src.macosx-10.5-x86_64-2.7/fibmodule.o /var/folders/_q/9lrsb4wj1b5gy71vm32kqjy80000gn/T/tmpe_sWoI/var/folders/_q/9lrsb4wj1b5gy71vm32kqjy80000gn/T/tmpe_sWoI/src.macosx-10.5-x86_64-2.7/fortranobject.o /var/folders/_q/9lrsb4wj1b5gy71vm32kqjy80000gn/T/tmpe_sWoI/fib.o -L/usr/local/lib/gcc/x86_64-apple-darwin12.4.0/4.8.1 -lgfortran -o ./fib.so\u001b[0m\r\n"
       ]
      },
      {
       "output_type": "stream",
       "stream": "stdout",
       "text": [
        "\u001b[39mrunning scons\u001b[0m\r\n",
        "Removing build directory /var/folders/_q/9lrsb4wj1b5gy71vm32kqjy80000gn/T/tmpe_sWoI\r\n"
       ]
      }
     ],
     "prompt_number": 19
    },
    {
     "cell_type": "code",
     "collapsed": false,
     "input": [
      "import numpy as np\n",
      "import fib\n",
      "a = np.zeros(10, dtype='d')\n",
      "fib.fib(a) \n",
      "print a "
     ],
     "language": "python",
     "metadata": {},
     "outputs": [
      {
       "output_type": "stream",
       "stream": "stdout",
       "text": [
        "[  0.   1.   1.   2.   3.   5.   8.  13.  21.  34.]\n"
       ]
      }
     ],
     "prompt_number": 20
    },
    {
     "cell_type": "code",
     "collapsed": false,
     "input": [
      "a = np.zeros(10000, dtype='d')\n",
      "%timeit fib.fib(a)"
     ],
     "language": "python",
     "metadata": {},
     "outputs": [
      {
       "output_type": "stream",
       "stream": "stdout",
       "text": [
        "10000 loops, best of 3: 26.8 \u00b5s per loop\n"
       ]
      }
     ],
     "prompt_number": 21
    },
    {
     "cell_type": "markdown",
     "metadata": {},
     "source": [
      "The Fortran version is about 300x faster!"
     ]
    },
    {
     "cell_type": "markdown",
     "metadata": {},
     "source": [
      "### Using an interface file\n",
      "But this is a bit awkward that we have to create the array that will hold the results... It would be nice if this could happen automatically.  We can make this happen through the use of *interface files*, which have a ``.pyf`` extension.\n",
      "\n",
      "An interface template can be generated automatically with f2py.  We'll tell it that we want a module called ``fib2``:"
     ]
    },
    {
     "cell_type": "code",
     "collapsed": false,
     "input": [
      "!rm -f _fib2.pyf\n",
      "!f2py fib.f -m fib2 -h _fib2.pyf"
     ],
     "language": "python",
     "metadata": {},
     "outputs": [
      {
       "output_type": "stream",
       "stream": "stdout",
       "text": [
        "Reading fortran codes...\r\n",
        "\tReading file 'fib.f' (format:fix,strict)\r\n",
        "Post-processing...\r\n",
        "\tBlock: fib2\r\n",
        "\t\t\tBlock: fib\r\n",
        "Post-processing (stage 2)...\r\n",
        "Saving signatures to file \"./_fib2.pyf\"\r\n"
       ]
      }
     ],
     "prompt_number": 22
    },
    {
     "cell_type": "code",
     "collapsed": false,
     "input": [
      "!cat _fib2.pyf"
     ],
     "language": "python",
     "metadata": {},
     "outputs": [
      {
       "output_type": "stream",
       "stream": "stdout",
       "text": [
        "!    -*- f90 -*-\r\n",
        "! Note: the context of this file is case sensitive.\r\n",
        "\r\n",
        "python module fib2 ! in \r\n",
        "    interface  ! in :fib2\r\n",
        "        subroutine fib(a,n) ! in :fib2:fib.f\r\n",
        "            double precision dimension(n) :: a\r\n",
        "            integer, optional,check(len(a)>=n),depend(a) :: n=len(a)\r\n",
        "        end subroutine fib\r\n",
        "    end interface \r\n",
        "end python module fib2\r\n",
        "\r\n",
        "! This file was auto-generated with f2py (version:2).\r\n",
        "! See http://cens.ioc.ee/projects/f2py2e/\r\n"
       ]
      }
     ],
     "prompt_number": 23
    },
    {
     "cell_type": "markdown",
     "metadata": {},
     "source": [
      "Take a look at the default settings.  We have our subroutine called ``fib(a, n)``, which lists the following:\n",
      "```\n",
      "double precision dimension(n) :: a\n",
      "```\n",
      "This lists a variable which is an input into the routine: an array of length ``n``\n",
      "```\n",
      "integer, optional,check(len(a)>=n),depend(a) :: n=len(a)\n",
      "```\n",
      "This tells us what the routine expects ``n`` to be.  It is optionally specified, with a default value which is the length of ``a``.  Also, there is a check in here that makes sure ``a`` is long enough.  Let's check this out:"
     ]
    },
    {
     "cell_type": "code",
     "collapsed": false,
     "input": [
      "from fib import fib\n",
      "a = np.zeros(10)\n",
      "fib(a, 10)  # specify the optional keyword\n",
      "print a"
     ],
     "language": "python",
     "metadata": {},
     "outputs": [
      {
       "output_type": "stream",
       "stream": "stdout",
       "text": [
        "[  0.   1.   1.   2.   3.   5.   8.  13.  21.  34.]\n"
       ]
      }
     ],
     "prompt_number": 24
    },
    {
     "cell_type": "code",
     "collapsed": false,
     "input": [
      "a = np.zeros(10)\n",
      "fib(a, 5)  # specify only part of the array\n",
      "print a"
     ],
     "language": "python",
     "metadata": {},
     "outputs": [
      {
       "output_type": "stream",
       "stream": "stdout",
       "text": [
        "[ 0.  1.  1.  2.  3.  0.  0.  0.  0.  0.]\n"
       ]
      }
     ],
     "prompt_number": 25
    },
    {
     "cell_type": "code",
     "collapsed": false,
     "input": [
      "a = np.zeros(10)\n",
      "fib(a, 20)  # specify a length which is too long"
     ],
     "language": "python",
     "metadata": {},
     "outputs": [
      {
       "ename": "error",
       "evalue": "(len(a)>=n) failed for 1st keyword n: fib:n=20",
       "output_type": "pyerr",
       "traceback": [
        "\u001b[0;31m---------------------------------------------------------------------------\u001b[0m\n\u001b[0;31merror\u001b[0m                                     Traceback (most recent call last)",
        "\u001b[0;32m<ipython-input-26-3aa9413db322>\u001b[0m in \u001b[0;36m<module>\u001b[0;34m()\u001b[0m\n\u001b[1;32m      1\u001b[0m \u001b[0ma\u001b[0m \u001b[0;34m=\u001b[0m \u001b[0mnp\u001b[0m\u001b[0;34m.\u001b[0m\u001b[0mzeros\u001b[0m\u001b[0;34m(\u001b[0m\u001b[0;36m10\u001b[0m\u001b[0;34m)\u001b[0m\u001b[0;34m\u001b[0m\u001b[0m\n\u001b[0;32m----> 2\u001b[0;31m \u001b[0mfib\u001b[0m\u001b[0;34m(\u001b[0m\u001b[0ma\u001b[0m\u001b[0;34m,\u001b[0m \u001b[0;36m20\u001b[0m\u001b[0;34m)\u001b[0m  \u001b[0;31m# specify a length which is too long\u001b[0m\u001b[0;34m\u001b[0m\u001b[0m\n\u001b[0m",
        "\u001b[0;31merror\u001b[0m: (len(a)>=n) failed for 1st keyword n: fib:n=20"
       ]
      }
     ],
     "prompt_number": 26
    },
    {
     "cell_type": "markdown",
     "metadata": {},
     "source": [
      "What we want to do is to modify this interface so that the length ``n`` is an input, and the array ``a`` is an (automatically constructed) output.  We'll do this below; for more details on the options available in F2Py interface files, see the [F2Py documentation](http://cens.ioc.ee/projects/f2py2e/usersguide/)."
     ]
    },
    {
     "cell_type": "code",
     "collapsed": false,
     "input": [
      "%%file fib2.pyf\n",
      "!    -*- f90 -*-\n",
      "! Note: the context of this file is case sensitive.\n",
      "\n",
      "python module fib2 ! in \n",
      "    interface  ! in :fib2\n",
      "        subroutine fib(a,n) ! in :fib2:fib.f\n",
      "            double precision dimension(n), intent(out), depend(n) :: a\n",
      "            integer intent(in) :: n\n",
      "        end subroutine fib\n",
      "    end interface \n",
      "end python module fib2"
     ],
     "language": "python",
     "metadata": {},
     "outputs": [
      {
       "output_type": "stream",
       "stream": "stdout",
       "text": [
        "Overwriting fib2.pyf\n"
       ]
      }
     ],
     "prompt_number": 27
    },
    {
     "cell_type": "markdown",
     "metadata": {},
     "source": [
      "We've specified the intent and the dependencies of each variable using the ``f2py`` specifications.\n",
      "\n",
      "Here we compile fib2 using the interface file we've created:"
     ]
    },
    {
     "cell_type": "code",
     "collapsed": false,
     "input": [
      "!f2py -c -m fib2 fib2.pyf fib.f"
     ],
     "language": "python",
     "metadata": {},
     "outputs": [
      {
       "output_type": "stream",
       "stream": "stdout",
       "text": [
        "\u001b[39mrunning build\u001b[0m\r\n",
        "\u001b[39mrunning config_cc\u001b[0m\r\n",
        "\u001b[39munifing config_cc, config, build_clib, build_ext, build commands --compiler options\u001b[0m\r\n",
        "\u001b[39mrunning config_fc\u001b[0m\r\n",
        "\u001b[39munifing config_fc, config, build_clib, build_ext, build commands --fcompiler options\u001b[0m\r\n",
        "\u001b[39mrunning build_src\u001b[0m\r\n",
        "\u001b[39mbuild_src\u001b[0m\r\n",
        "\u001b[39mbuilding extension \"fib2\" sources\u001b[0m\r\n",
        "\u001b[39mcreating /var/folders/_q/9lrsb4wj1b5gy71vm32kqjy80000gn/T/tmpegZnM7\u001b[0m\r\n",
        "\u001b[39mcreating /var/folders/_q/9lrsb4wj1b5gy71vm32kqjy80000gn/T/tmpegZnM7/src.macosx-10.5-x86_64-2.7\u001b[0m\r\n",
        "\u001b[39mf2py options: []\u001b[0m\r\n",
        "\u001b[39mf2py: fib2.pyf\u001b[0m\r\n",
        "Reading fortran codes...\r\n",
        "\tReading file 'fib2.pyf' (format:free)\r\n",
        "Post-processing...\r\n",
        "\tBlock: fib2\r\n",
        "\t\t\tBlock: fib\r\n",
        "Post-processing (stage 2)...\r\n",
        "Building modules...\r\n",
        "\tBuilding module \"fib2\"...\r\n",
        "\t\tConstructing wrapper function \"fib\"...\r\n",
        "\t\t  a = fib(n)\r\n",
        "\tWrote C/API module \"fib2\" to file \"/var/folders/_q/9lrsb4wj1b5gy71vm32kqjy80000gn/T/tmpegZnM7/src.macosx-10.5-x86_64-2.7/fib2module.c\"\r\n",
        "\u001b[39m  adding '/var/folders/_q/9lrsb4wj1b5gy71vm32kqjy80000gn/T/tmpegZnM7/src.macosx-10.5-x86_64-2.7/fortranobject.c' to sources.\u001b[0m\r\n",
        "\u001b[39m  adding '/var/folders/_q/9lrsb4wj1b5gy71vm32kqjy80000gn/T/tmpegZnM7/src.macosx-10.5-x86_64-2.7' to include_dirs.\u001b[0m\r\n",
        "\u001b[39mcopying /Users/jakevdp/anaconda/lib/python2.7/site-packages/numpy/f2py/src/fortranobject.c -> /var/folders/_q/9lrsb4wj1b5gy71vm32kqjy80000gn/T/tmpegZnM7/src.macosx-10.5-x86_64-2.7\u001b[0m\r\n",
        "\u001b[39mcopying /Users/jakevdp/anaconda/lib/python2.7/site-packages/numpy/f2py/src/fortranobject.h -> /var/folders/_q/9lrsb4wj1b5gy71vm32kqjy80000gn/T/tmpegZnM7/src.macosx-10.5-x86_64-2.7\u001b[0m\r\n",
        "\u001b[39mbuild_src: building npy-pkg config files\u001b[0m\r\n",
        "\u001b[39mrunning build_ext\u001b[0m\r\n",
        "\u001b[39mcustomize UnixCCompiler\u001b[0m\r\n"
       ]
      },
      {
       "output_type": "stream",
       "stream": "stdout",
       "text": [
        "\u001b[39mcustomize UnixCCompiler using build_ext\u001b[0m\r\n",
        "\u001b[39mcustomize Gnu95FCompiler\u001b[0m\r\n",
        "\u001b[32mFound executable /usr/local/bin/gfortran\u001b[0m\r\n"
       ]
      },
      {
       "output_type": "stream",
       "stream": "stdout",
       "text": [
        "\u001b[39mcustomize Gnu95FCompiler\u001b[0m\r\n",
        "\u001b[39mcustomize Gnu95FCompiler using build_ext\u001b[0m\r\n",
        "\u001b[39mbuilding 'fib2' extension\u001b[0m\r\n",
        "\u001b[39mcompiling C sources\u001b[0m\r\n",
        "\u001b[39mC compiler: /usr/bin/clang -fno-strict-aliasing -I/Users/jakevdp/anaconda/include -arch x86_64 -DNDEBUG -g -fwrapv -O3 -Wall -Wstrict-prototypes\r\n",
        "\u001b[0m\r\n",
        "\u001b[39mcreating /var/folders/_q/9lrsb4wj1b5gy71vm32kqjy80000gn/T/tmpegZnM7/var\u001b[0m\r\n",
        "\u001b[39mcreating /var/folders/_q/9lrsb4wj1b5gy71vm32kqjy80000gn/T/tmpegZnM7/var/folders\u001b[0m\r\n",
        "\u001b[39mcreating /var/folders/_q/9lrsb4wj1b5gy71vm32kqjy80000gn/T/tmpegZnM7/var/folders/_q\u001b[0m\r\n",
        "\u001b[39mcreating /var/folders/_q/9lrsb4wj1b5gy71vm32kqjy80000gn/T/tmpegZnM7/var/folders/_q/9lrsb4wj1b5gy71vm32kqjy80000gn\u001b[0m\r\n",
        "\u001b[39mcreating /var/folders/_q/9lrsb4wj1b5gy71vm32kqjy80000gn/T/tmpegZnM7/var/folders/_q/9lrsb4wj1b5gy71vm32kqjy80000gn/T\u001b[0m\r\n",
        "\u001b[39mcreating /var/folders/_q/9lrsb4wj1b5gy71vm32kqjy80000gn/T/tmpegZnM7/var/folders/_q/9lrsb4wj1b5gy71vm32kqjy80000gn/T/tmpegZnM7\u001b[0m\r\n",
        "\u001b[39mcreating /var/folders/_q/9lrsb4wj1b5gy71vm32kqjy80000gn/T/tmpegZnM7/var/folders/_q/9lrsb4wj1b5gy71vm32kqjy80000gn/T/tmpegZnM7/src.macosx-10.5-x86_64-2.7\u001b[0m\r\n",
        "\u001b[39mcompile options: '-I/var/folders/_q/9lrsb4wj1b5gy71vm32kqjy80000gn/T/tmpegZnM7/src.macosx-10.5-x86_64-2.7 -I/Users/jakevdp/anaconda/lib/python2.7/site-packages/numpy/core/include -I/Users/jakevdp/anaconda/include/python2.7 -c'\u001b[0m\r\n",
        "\u001b[39mclang: /var/folders/_q/9lrsb4wj1b5gy71vm32kqjy80000gn/T/tmpegZnM7/src.macosx-10.5-x86_64-2.7/fib2module.c\u001b[0m\r\n"
       ]
      },
      {
       "output_type": "stream",
       "stream": "stdout",
       "text": [
        "In file included from /var/folders/_q/9lrsb4wj1b5gy71vm32kqjy80000gn/T/tmpegZnM7/src.macosx-10.5-x86_64-2.7/fib2module.c:18:\r\n",
        "In file included from /var/folders/_q/9lrsb4wj1b5gy71vm32kqjy80000gn/T/tmpegZnM7/src.macosx-10.5-x86_64-2.7/fortranobject.h:13:\r\n",
        "In file included from /Users/jakevdp/anaconda/lib/python2.7/site-packages/numpy/core/include/numpy/arrayobject.h:15:\r\n",
        "In file included from /Users/jakevdp/anaconda/lib/python2.7/site-packages/numpy/core/include/numpy/ndarrayobject.h:17:\r\n",
        "In file included from /Users/jakevdp/anaconda/lib/python2.7/site-packages/numpy/core/include/numpy/ndarraytypes.h:1728:\r\n",
        "/Users/jakevdp/anaconda/lib/python2.7/site-packages/numpy/core/include/numpy/npy_deprecated_api.h:11:2: warning: \"Using deprecated NumPy API, disable it by #defining NPY_NO_DEPRECATED_API NPY_1_7_API_VERSION\" [-W#warnings]\r\n",
        "#warning \"Using deprecated NumPy API, disable it by #defining NPY_NO_DEPRECATED_API NPY_1_7_API_VERSION\"\r\n",
        " ^\r\n",
        "/var/folders/_q/9lrsb4wj1b5gy71vm32kqjy80000gn/T/tmpegZnM7/src.macosx-10.5-x86_64-2.7/fib2module.c:104:12: warning: unused function 'f2py_size' [-Wunused-function]\r\n",
        "static int f2py_size(PyArrayObject* var, ...)\r\n",
        "           ^\r\n"
       ]
      },
      {
       "output_type": "stream",
       "stream": "stdout",
       "text": [
        "2 warnings generated.\r\n",
        "\u001b[39mclang: /var/folders/_q/9lrsb4wj1b5gy71vm32kqjy80000gn/T/tmpegZnM7/src.macosx-10.5-x86_64-2.7/fortranobject.c\u001b[0m\r\n"
       ]
      },
      {
       "output_type": "stream",
       "stream": "stdout",
       "text": [
        "In file included from /var/folders/_q/9lrsb4wj1b5gy71vm32kqjy80000gn/T/tmpegZnM7/src.macosx-10.5-x86_64-2.7/fortranobject.c:2:\r\n",
        "In file included from /var/folders/_q/9lrsb4wj1b5gy71vm32kqjy80000gn/T/tmpegZnM7/src.macosx-10.5-x86_64-2.7/fortranobject.h:13:\r\n",
        "In file included from /Users/jakevdp/anaconda/lib/python2.7/site-packages/numpy/core/include/numpy/arrayobject.h:15:\r\n",
        "In file included from /Users/jakevdp/anaconda/lib/python2.7/site-packages/numpy/core/include/numpy/ndarrayobject.h:17:\r\n",
        "In file included from /Users/jakevdp/anaconda/lib/python2.7/site-packages/numpy/core/include/numpy/ndarraytypes.h:1728:\r\n",
        "/Users/jakevdp/anaconda/lib/python2.7/site-packages/numpy/core/include/numpy/npy_deprecated_api.h:11:2: warning: \"Using deprecated NumPy API, disable it by #defining NPY_NO_DEPRECATED_API NPY_1_7_API_VERSION\" [-W#warnings]\r\n",
        "#warning \"Using deprecated NumPy API, disable it by #defining NPY_NO_DEPRECATED_API NPY_1_7_API_VERSION\"\r\n",
        " ^\r\n",
        "/var/folders/_q/9lrsb4wj1b5gy71vm32kqjy80000gn/T/tmpegZnM7/src.macosx-10.5-x86_64-2.7/fortranobject.c:338:30: warning: equality comparison with extraneous parentheses [-Wparentheses-equality]\r\n",
        "        if ((fp->defs[i].func==NULL)) {\r\n",
        "             ~~~~~~~~~~~~~~~~^~~~~~\r\n",
        "/var/folders/_q/9lrsb4wj1b5gy71vm32kqjy80000gn/T/tmpegZnM7/src.macosx-10.5-x86_64-2.7/fortranobject.c:338:30: note: remove extraneous parentheses around the comparison to silence this warning\r\n",
        "        if ((fp->defs[i].func==NULL)) {\r\n",
        "            ~                ^     ~\r\n",
        "/var/folders/_q/9lrsb4wj1b5gy71vm32kqjy80000gn/T/tmpegZnM7/src.macosx-10.5-x86_64-2.7/fortranobject.c:338:30: note: use '=' to turn this equality comparison into an assignment\r\n",
        "        if ((fp->defs[i].func==NULL)) {\r\n",
        "                             ^~\r\n",
        "                             =\r\n"
       ]
      },
      {
       "output_type": "stream",
       "stream": "stdout",
       "text": [
        "2 warnings generated.\r\n",
        "\u001b[39mcompiling Fortran sources\u001b[0m\r\n",
        "\u001b[39mFortran f77 compiler: /usr/local/bin/gfortran -Wall -ffixed-form -fno-second-underscore -m64 -fPIC -O3 -funroll-loops\r\n",
        "Fortran f90 compiler: /usr/local/bin/gfortran -Wall -fno-second-underscore -m64 -fPIC -O3 -funroll-loops\r\n",
        "Fortran fix compiler: /usr/local/bin/gfortran -Wall -ffixed-form -fno-second-underscore -Wall -fno-second-underscore -m64 -fPIC -O3 -funroll-loops\u001b[0m\r\n",
        "\u001b[39mcompile options: '-I/var/folders/_q/9lrsb4wj1b5gy71vm32kqjy80000gn/T/tmpegZnM7/src.macosx-10.5-x86_64-2.7 -I/Users/jakevdp/anaconda/lib/python2.7/site-packages/numpy/core/include -I/Users/jakevdp/anaconda/include/python2.7 -c'\u001b[0m\r\n",
        "\u001b[39mgfortran:f77: fib.f\u001b[0m\r\n"
       ]
      },
      {
       "output_type": "stream",
       "stream": "stdout",
       "text": [
        "\u001b[39m/usr/local/bin/gfortran -Wall -m64 -Wall -undefined dynamic_lookup -bundle /var/folders/_q/9lrsb4wj1b5gy71vm32kqjy80000gn/T/tmpegZnM7/var/folders/_q/9lrsb4wj1b5gy71vm32kqjy80000gn/T/tmpegZnM7/src.macosx-10.5-x86_64-2.7/fib2module.o /var/folders/_q/9lrsb4wj1b5gy71vm32kqjy80000gn/T/tmpegZnM7/var/folders/_q/9lrsb4wj1b5gy71vm32kqjy80000gn/T/tmpegZnM7/src.macosx-10.5-x86_64-2.7/fortranobject.o /var/folders/_q/9lrsb4wj1b5gy71vm32kqjy80000gn/T/tmpegZnM7/fib.o -L/usr/local/lib/gcc/x86_64-apple-darwin12.4.0/4.8.1 -lgfortran -o ./fib2.so\u001b[0m\r\n",
        "\u001b[39mrunning scons\u001b[0m\r\n",
        "Removing build directory /var/folders/_q/9lrsb4wj1b5gy71vm32kqjy80000gn/T/tmpegZnM7\r\n"
       ]
      }
     ],
     "prompt_number": 28
    },
    {
     "cell_type": "markdown",
     "metadata": {},
     "source": [
      "Now we can import and call the function like this:"
     ]
    },
    {
     "cell_type": "code",
     "collapsed": false,
     "input": [
      "import fib2\n",
      "print fib2.fib(10)"
     ],
     "language": "python",
     "metadata": {},
     "outputs": [
      {
       "output_type": "stream",
       "stream": "stdout",
       "text": [
        "[  0.   1.   1.   2.   3.   5.   8.  13.  21.  34.]\n"
       ]
      }
     ],
     "prompt_number": 29
    },
    {
     "cell_type": "code",
     "collapsed": false,
     "input": [
      "fib2.fib?"
     ],
     "language": "python",
     "metadata": {},
     "outputs": [],
     "prompt_number": 30
    },
    {
     "cell_type": "code",
     "collapsed": false,
     "input": [
      "%timeit fib2.fib(10000)"
     ],
     "language": "python",
     "metadata": {},
     "outputs": [
      {
       "output_type": "stream",
       "stream": "stdout",
       "text": [
        "10000 loops, best of 3: 29.3 \u00b5s per loop\n"
       ]
      }
     ],
     "prompt_number": 31
    },
    {
     "cell_type": "markdown",
     "metadata": {},
     "source": [
      "From our simple FORTRAN function, along with an interface file and a compilation with f2py, we now have a Python module which is callable in a very intuitive way.\n",
      "\n",
      "If you look into the source code of SciPy, you'll see that this is how much of its functionality is implemented, through wrapping pieces of the [NETLIB](http://netlib.org/) repository."
     ]
    },
    {
     "cell_type": "markdown",
     "metadata": {},
     "source": [
      "### Learning More\n",
      "- [F2Py user's guide](http://cens.ioc.ee/projects/f2py2e/usersguide/)\n",
      "- [SciPy F2Py cookbook](http://wiki.scipy.org/Cookbook/F2Py)\n",
      "- [numpy docs: using Python as glue](docs.scipy.org/doc/numpy/user/c-info.python-as-glue.html\u200e)\n",
      "- [Sage F2Py documentation](http://www.sagemath.org/doc/numerical_sage/f2py.html)"
     ]
    },
    {
     "cell_type": "markdown",
     "metadata": {},
     "source": [
      "## Cython\n",
      "\n",
      "CTypes and F2Py provide the ability to wrap Fortran, C, and C++ code so that it can be imported into Python.  Cython enables this as well, though we will not focus on that part of it here.  The biggest part of Cython is that it lets you **convert Python code** and Python-like code into compiled C code, which can run many times faster than the original code.\n",
      "\n",
      "Let's see a quick example.  Here's a Python function which computes the N^th fibonacci number:"
     ]
    },
    {
     "cell_type": "code",
     "collapsed": false,
     "input": [
      "def nth_fib(n):\n",
      "    a, b = 0, 1\n",
      "    for i in range(n):\n",
      "        b, a = a + b, b\n",
      "    return a"
     ],
     "language": "python",
     "metadata": {},
     "outputs": [],
     "prompt_number": 32
    },
    {
     "cell_type": "code",
     "collapsed": false,
     "input": [
      "[nth_fib(i) for i in range(10)]"
     ],
     "language": "python",
     "metadata": {},
     "outputs": [
      {
       "metadata": {},
       "output_type": "pyout",
       "prompt_number": 33,
       "text": [
        "[0, 1, 1, 2, 3, 5, 8, 13, 21, 34]"
       ]
      }
     ],
     "prompt_number": 33
    },
    {
     "cell_type": "code",
     "collapsed": false,
     "input": [
      "%timeit nth_fib(10000)"
     ],
     "language": "python",
     "metadata": {},
     "outputs": [
      {
       "output_type": "stream",
       "stream": "stdout",
       "text": [
        "100 loops, best of 3: 3.25 ms per loop\n"
       ]
      }
     ],
     "prompt_number": 34
    },
    {
     "cell_type": "markdown",
     "metadata": {},
     "source": [
      "Now we'll take the **exact same** code, and compile it with Cython.  In general, this will be done by saving the code to file, and running ``cython`` on the command line.  You can read about that in the [documentation](http://cython.org). Here we'll use IPython's Cython magic to streamline the process:"
     ]
    },
    {
     "cell_type": "code",
     "collapsed": false,
     "input": [
      "%load_ext cythonmagic"
     ],
     "language": "python",
     "metadata": {},
     "outputs": [],
     "prompt_number": 35
    },
    {
     "cell_type": "code",
     "collapsed": false,
     "input": [
      "%%cython\n",
      "def nth_fib2(n):\n",
      "    a, b = 0, 1\n",
      "    for i in range(n):\n",
      "        b, a = a + b, b\n",
      "    return a"
     ],
     "language": "python",
     "metadata": {},
     "outputs": [],
     "prompt_number": 36
    },
    {
     "cell_type": "code",
     "collapsed": false,
     "input": [
      "[nth_fib2(i) for i in range(10)]"
     ],
     "language": "python",
     "metadata": {},
     "outputs": [
      {
       "metadata": {},
       "output_type": "pyout",
       "prompt_number": 37,
       "text": [
        "[0, 1, 1, 2, 3, 5, 8, 13, 21, 34]"
       ]
      }
     ],
     "prompt_number": 37
    },
    {
     "cell_type": "code",
     "collapsed": false,
     "input": [
      "%timeit nth_fib2(10000)"
     ],
     "language": "python",
     "metadata": {},
     "outputs": [
      {
       "output_type": "stream",
       "stream": "stdout",
       "text": [
        "100 loops, best of 3: 2.81 ms per loop\n"
       ]
      }
     ],
     "prompt_number": 38
    },
    {
     "cell_type": "markdown",
     "metadata": {},
     "source": [
      "Just compiling the code in Cython gave us a ~10% speedup.  But we can do better by adding **type annotations**.\n",
      "\n",
      "See, the main reason Python is slow is because it has to do dynamic type checking each time it evaluates an expression.  If we can tell Cython what the types are from the beginning, this step can be skipped, and we have large time savings.  We do this through a ``cdef`` command.  We also do the temporary assignment explicitly to remove the Python tuple assignment:"
     ]
    },
    {
     "cell_type": "code",
     "collapsed": false,
     "input": [
      "%%cython\n",
      "def nth_fib3(int n):\n",
      "    cdef int a = 0\n",
      "    cdef int b = 1\n",
      "    cdef int tmp\n",
      "    for i in range(n):\n",
      "        tmp = b\n",
      "        b = a + b\n",
      "        a = tmp\n",
      "    return a"
     ],
     "language": "python",
     "metadata": {},
     "outputs": [],
     "prompt_number": 41
    },
    {
     "cell_type": "code",
     "collapsed": false,
     "input": [
      "[nth_fib3(i) for i in range(10)]"
     ],
     "language": "python",
     "metadata": {},
     "outputs": [
      {
       "metadata": {},
       "output_type": "pyout",
       "prompt_number": 42,
       "text": [
        "[0, 1, 1, 2, 3, 5, 8, 13, 21, 34]"
       ]
      }
     ],
     "prompt_number": 42
    },
    {
     "cell_type": "code",
     "collapsed": false,
     "input": [
      "print \"Python only:\"\n",
      "%timeit nth_fib(10000)\n",
      "print \"Bare Cython:\"\n",
      "%timeit nth_fib(10000)\n",
      "print \"Typed Cython:\"\n",
      "%timeit nth_fib3(10000)"
     ],
     "language": "python",
     "metadata": {},
     "outputs": [
      {
       "output_type": "stream",
       "stream": "stdout",
       "text": [
        "Python only:\n",
        "100 loops, best of 3: 3.13 ms per loop"
       ]
      },
      {
       "output_type": "stream",
       "stream": "stdout",
       "text": [
        "\n",
        "Bare Cython:\n",
        "100 loops, best of 3: 3.29 ms per loop"
       ]
      },
      {
       "output_type": "stream",
       "stream": "stdout",
       "text": [
        "\n",
        "Typed Cython:\n",
        "100000 loops, best of 3: 5.99 \u00b5s per loop"
       ]
      },
      {
       "output_type": "stream",
       "stream": "stdout",
       "text": [
        "\n"
       ]
      }
     ],
     "prompt_number": 43
    },
    {
     "cell_type": "markdown",
     "metadata": {},
     "source": [
      "By adding some type information to our script, we sped up the execution by several orders of magnitude!  This shows how easy Cython is for simple problems."
     ]
    },
    {
     "cell_type": "markdown",
     "metadata": {},
     "source": [
      "One very useful trick to be aware of is ``cython -a``.  This will produce an annotated html document showing which lines of the program are causing problems.  You can run it like this:"
     ]
    },
    {
     "cell_type": "code",
     "collapsed": false,
     "input": [
      "%%file nth_fib.pyx\n",
      "# Slow version:\n",
      "def nth_fib2(n):\n",
      "    a, b = 0, 1\n",
      "    for i in range(n):\n",
      "        b, a = a + b, b\n",
      "    return a\n",
      "\n",
      "# Fast Version:\n",
      "def nth_fib3(int n):\n",
      "    cdef int a = 0\n",
      "    cdef int b = 1\n",
      "    cdef int tmp\n",
      "    for i in range(n):\n",
      "        tmp = b\n",
      "        b = a + b\n",
      "        a = tmp\n",
      "    return a"
     ],
     "language": "python",
     "metadata": {},
     "outputs": [
      {
       "output_type": "stream",
       "stream": "stdout",
       "text": [
        "Overwriting nth_fib.pyx\n"
       ]
      }
     ],
     "prompt_number": 44
    },
    {
     "cell_type": "code",
     "collapsed": false,
     "input": [
      "!cython -a nth_fib.pyx"
     ],
     "language": "python",
     "metadata": {},
     "outputs": [],
     "prompt_number": 45
    },
    {
     "cell_type": "markdown",
     "metadata": {},
     "source": [
      "If we open the resulting HTML file, we'll see a highlighted version of our code.  The darkness of the highlight shows how many lines of C code were generated by the line of Python.  More yellow lines generally means slower code.  This can be very helpful when your code is not running as quickly as you'd expected.  To see the results, open [nth_fib.html](files/nth_fib.html) after running the above code."
     ]
    },
    {
     "cell_type": "markdown",
     "metadata": {},
     "source": [
      "### Using Cython with NumPy\n",
      "\n",
      "Cython provides a really nice interface to numpy arrays via the [Typed Memoryview](http://docs.cython.org/src/userguide/memoryviews.html) syntax.  Let's implement the same fib function as above, but using Cython.\n",
      "\n",
      "First we'll simply compile our Python function again:"
     ]
    },
    {
     "cell_type": "code",
     "collapsed": false,
     "input": [
      "%%cython\n",
      "import numpy as np\n",
      "\n",
      "def fib_cy(N):\n",
      "    x = np.zeros(N, dtype=float)\n",
      "    for i in range(N):\n",
      "        if i == 0:\n",
      "            x[i] = 0\n",
      "        elif i == 1:\n",
      "            x[i] = 1\n",
      "        else:\n",
      "            x[i] = x[i - 1] + x[i - 2]\n",
      "    return x"
     ],
     "language": "python",
     "metadata": {},
     "outputs": [],
     "prompt_number": 46
    },
    {
     "cell_type": "code",
     "collapsed": false,
     "input": [
      "print np.allclose(fib_py(10000), fib_cy(10000))\n",
      "%timeit fib_py(10000)\n",
      "%timeit fib_cy(10000)"
     ],
     "language": "python",
     "metadata": {},
     "outputs": [
      {
       "output_type": "stream",
       "stream": "stdout",
       "text": [
        "True\n",
        "100 loops, best of 3: 8.73 ms per loop"
       ]
      },
      {
       "output_type": "stream",
       "stream": "stderr",
       "text": [
        "-c:1: RuntimeWarning: overflow encountered in double_scalars\n",
        "-c:257: RuntimeWarning: overflow encountered in double_scalars\n"
       ]
      },
      {
       "output_type": "stream",
       "stream": "stdout",
       "text": [
        "\n",
        "100 loops, best of 3: 7.58 ms per loop"
       ]
      },
      {
       "output_type": "stream",
       "stream": "stdout",
       "text": [
        "\n"
       ]
      }
     ],
     "prompt_number": 47
    },
    {
     "cell_type": "markdown",
     "metadata": {},
     "source": [
      "Again, a very small improvement.  Let's add some type information and see how we do:"
     ]
    },
    {
     "cell_type": "code",
     "collapsed": false,
     "input": [
      "%%cython\n",
      "import numpy as np\n",
      "from numpy cimport float_t\n",
      "\n",
      "def fib_cy2(int N):\n",
      "    cdef int i\n",
      "    cdef float_t[::1] x = np.zeros(N, dtype=float)\n",
      "    for i in range(N):\n",
      "        if i == 0:\n",
      "            x[i] = 0\n",
      "        elif i == 1:\n",
      "            x[i] = 1\n",
      "        else:\n",
      "            x[i] = x[i - 1] + x[i - 2]\n",
      "    return x"
     ],
     "language": "python",
     "metadata": {},
     "outputs": [],
     "prompt_number": 48
    },
    {
     "cell_type": "code",
     "collapsed": false,
     "input": [
      "%timeit fib_cy(10000)\n",
      "%timeit fib_cy2(10000)"
     ],
     "language": "python",
     "metadata": {},
     "outputs": [
      {
       "output_type": "stream",
       "stream": "stdout",
       "text": [
        "100 loops, best of 3: 7.82 ms per loop\n",
        "10000 loops, best of 3: 37.2 \u00b5s per loop"
       ]
      },
      {
       "output_type": "stream",
       "stream": "stdout",
       "text": [
        "\n"
       ]
      }
     ],
     "prompt_number": 49
    },
    {
     "cell_type": "markdown",
     "metadata": {},
     "source": [
      "Wow! Simply adding some type information for the Cython compiler made our code orders of magnitude faster!  This is because the array can now be treated as a **contiguous memory block** rather than a **Python object**.  This makes each of the indexing operations much more efficient, because they no longer have to go through the Python interface layer."
     ]
    },
    {
     "cell_type": "markdown",
     "metadata": {},
     "source": [
      "### Learning More\n",
      "There's a whole lot more to know about Cython, especially the details of working with numpy arrays.  Here are some more resources:\n",
      "\n",
      "- [Cython userguide](http://docs.cython.org/src/userguide/): lots of general information\n",
      "- [Cython docs: typed memoryviews](http://docs.cython.org/src/userguide/memoryviews.html): useful for working with numpy arrays\n",
      "- [Cython and NumPy](http://docs.cython.org/src/tutorial/numpy.html): some of this is currently a bit out-dated, but that should be addressed in the coming months.\n",
      "- [Scipy Conference 2013 Cython tutorial](http://conference.scipy.org/scipy2013/tutorial_detail.php?id=105) Very good video tutorial by one of Cython's main contributors."
     ]
    },
    {
     "cell_type": "markdown",
     "metadata": {},
     "source": [
      "## Numba\n",
      "\n",
      "You might wonder whether some of that type information could be inferred by the compiler, or whether the compilation phase is really necessary.  This is where [Numba](http://numba.pydata.org/) comes in.  Numba is an LLVM-based Just In Time (JIT) compiler for Python.  It allows simple annotations of Python code which can lead to huge speedups for certain operations.\n",
      "\n",
      "Numba comes from Continuum Analytics, a company founded by the creator of NumPy and SciPy, and the same people who are behind the Anaconda Python distribution.  Numba is still relatively young, and can be a little finnicky for some problems, but the approach is really clean.\n",
      "\n",
      "You can install numba from scratch, but because of the dependencies on LLVM and other difficult-to-install tools, I'd highly recommend just going with [Anaconda](https://store.continuum.io/cshop/anaconda/).\n",
      "\n",
      "Let's go back to our Python ``fib()`` function:"
     ]
    },
    {
     "cell_type": "code",
     "collapsed": false,
     "input": [
      "def fib(N):\n",
      "    x = np.zeros(N, dtype=np.float64)\n",
      "    for i in range(N):\n",
      "        if i == 0:\n",
      "            x[i] = 0\n",
      "        elif i == 1:\n",
      "            x[i] = 1\n",
      "        else:\n",
      "            x[i] = x[i - 1] + x[i - 2]\n",
      "    return x"
     ],
     "language": "python",
     "metadata": {},
     "outputs": [],
     "prompt_number": 50
    },
    {
     "cell_type": "markdown",
     "metadata": {},
     "source": [
      "To speed this up with Numba, we simply use the ``jit`` decorator:"
     ]
    },
    {
     "cell_type": "code",
     "collapsed": false,
     "input": [
      "from numba import autojit\n",
      "fib_nb = autojit(fib)"
     ],
     "language": "python",
     "metadata": {},
     "outputs": [],
     "prompt_number": 51
    },
    {
     "cell_type": "code",
     "collapsed": false,
     "input": [
      "fib_nb(10)"
     ],
     "language": "python",
     "metadata": {},
     "outputs": [
      {
       "metadata": {},
       "output_type": "pyout",
       "prompt_number": 52,
       "text": [
        "array([  0.,   1.,   1.,   2.,   3.,   5.,   8.,  13.,  21.,  34.])"
       ]
      }
     ],
     "prompt_number": 52
    },
    {
     "cell_type": "code",
     "collapsed": false,
     "input": [
      "%timeit fib(10000)\n",
      "%timeit fib_nb(10000)"
     ],
     "language": "python",
     "metadata": {},
     "outputs": [
      {
       "output_type": "stream",
       "stream": "stdout",
       "text": [
        "100 loops, best of 3: 8.51 ms per loop\n",
        "10000 loops, best of 3: 33.1 \u00b5s per loop"
       ]
      },
      {
       "output_type": "stream",
       "stream": "stdout",
       "text": [
        "\n"
       ]
      },
      {
       "output_type": "stream",
       "stream": "stderr",
       "text": [
        "-c:9: RuntimeWarning: overflow encountered in double_scalars\n"
       ]
      }
     ],
     "prompt_number": 53
    },
    {
     "cell_type": "markdown",
     "metadata": {},
     "source": [
      "Usually, numba is used as a decorator, which essentially does the same as we saw above.  You'd write a decorated function this way:"
     ]
    },
    {
     "cell_type": "code",
     "collapsed": false,
     "input": [
      "@autojit\n",
      "def fib_nb(N):\n",
      "    x = np.zeros(N, dtype=np.float64)\n",
      "    for i in range(N):\n",
      "        if i == 0:\n",
      "            x[i] = 0\n",
      "        elif i == 1:\n",
      "            x[i] = 1\n",
      "        else:\n",
      "            x[i] = x[i - 1] + x[i - 2]\n",
      "    return x"
     ],
     "language": "python",
     "metadata": {},
     "outputs": [],
     "prompt_number": 54
    },
    {
     "cell_type": "code",
     "collapsed": false,
     "input": [
      "%timeit fib_nb(10000)"
     ],
     "language": "python",
     "metadata": {},
     "outputs": [
      {
       "output_type": "stream",
       "stream": "stdout",
       "text": [
        "10000 loops, best of 3: 34.2 \u00b5s per loop\n"
       ]
      }
     ],
     "prompt_number": 55
    },
    {
     "cell_type": "markdown",
     "metadata": {},
     "source": [
      "You can see that simply by passing our ``fib`` function through the ``autojit`` decorator, we've attained execution which is a few percent faster than what we got with Cython - and there's no fancy compilation stage required!  The funcion is compiled *on demand* through LLVM, which makes numba very convenient to use.\n",
      "\n",
      "Now for the bad news: Numba is still young, and there are a lot of corner cases where the compiler will just break without any useful error message.  For more complicated problems and functions, the output code is not always faster than Python+NumPy, and can sometimes even be slower!\n",
      "\n",
      "My recommendation right now is to keep Numba in mind, to try it in your problems, but not necessarily depend on it -- yet."
     ]
    },
    {
     "cell_type": "markdown",
     "metadata": {},
     "source": [
      "### More Information on Numba\n",
      "There's still not a lot of information out there, but here are a few resources:\n",
      "- [Numba documentation](http://numba.pydata.org/doc.html)\n",
      "- [Accelerating Python with Numba](http://continuum.io/blog/numba_performance)\n",
      "- [Numba vs. Cython](http://jakevdp.github.io/blog/2013/06/15/numba-vs-cython-take-2/)"
     ]
    },
    {
     "cell_type": "markdown",
     "metadata": {},
     "source": [
      "# Homework: Accelerating the Mandelbrot Set\n",
      "\n",
      "One of the more interesting and beautiful calculations you can do with Python is the [Mandelbrot Set](http://en.wikipedia.org/wiki/Mandelbrot_set), a straightforwardly-generated set of points whose boundary is a fractal.  The computation of whether a point is in the mandelbrot set can be done as follows:"
     ]
    },
    {
     "cell_type": "code",
     "collapsed": false,
     "input": [
      "%matplotlib inline\n",
      "import numpy as np\n",
      "import matplotlib.pyplot as plt"
     ],
     "language": "python",
     "metadata": {},
     "outputs": [],
     "prompt_number": 56
    },
    {
     "cell_type": "code",
     "collapsed": false,
     "input": [
      "def mandel(x, y, max_iter):\n",
      "    \"\"\"\n",
      "    Given z = x + iy and max_iter, determine whether the candidate\n",
      "    is in the mandelbrot set for the given number of iterations\n",
      "    \"\"\"\n",
      "    c = complex(x, y)\n",
      "    z = 0.0j\n",
      "    for i in range(max_iter):\n",
      "        z = z*z + c\n",
      "        if (z.real*z.real + z.imag*z.imag) >= 4:\n",
      "            return i\n",
      "\n",
      "    return max_iter\n",
      "\n",
      "def create_fractal(Nx, Ny, xmin, xmax, ymin, ymax, max_iter):\n",
      "    \"\"\"Create and return a fractal image\"\"\"\n",
      "    image = np.zeros((Ny, Nx), dtype=float)\n",
      "    dx = (xmax - xmin) * 1. / Nx\n",
      "    dy = (ymax - ymin) * 1. / Ny\n",
      "    \n",
      "    for x in range(Nx):\n",
      "        rpart = xmin + x * dx\n",
      "        for y in range(Ny):\n",
      "            ipart = ymin + y * dy\n",
      "            color = mandel(rpart, ipart, max_iter)\n",
      "            image[y, x] = color\n",
      "    return image"
     ],
     "language": "python",
     "metadata": {},
     "outputs": [],
     "prompt_number": 57
    },
    {
     "cell_type": "code",
     "collapsed": false,
     "input": [
      "image = create_fractal(300, 200, -2, 1, -1, 1, 20)\n",
      "plt.imshow(image, cmap=plt.cm.jet)"
     ],
     "language": "python",
     "metadata": {},
     "outputs": [
      {
       "metadata": {},
       "output_type": "pyout",
       "prompt_number": 58,
       "text": [
        "<matplotlib.image.AxesImage at 0x109981390>"
       ]
      },
      {
       "metadata": {},
       "output_type": "display_data",
       "png": "[encoded data removed]",
       "text": [
        "<matplotlib.figure.Figure at 0x109956cd0>"
       ]
      }
     ],
     "prompt_number": 58
    },
    {
     "cell_type": "markdown",
     "metadata": {},
     "source": [
      "Using this simple code, you can generate some absolutely stunning images.  The problem is, to go deeper you need **very high resolution** and **very many iterations**, both of which are extremely slow in Python!\n",
      "\n",
      "Your assignment is to make these faster:\n",
      "\n",
      "#### Part 1\n",
      "Speed up this example using either CTypes, F2Py, or Cython.  With CTypes/F2Py, you'll have to write the above functionality as a C/Fortran routine, and use the tools above to wrap that functionality. \n",
      "\n",
      "For Cython, it will require adding appropriate type information to each of the variables used in the computation.  Also, check the Cython documentation and make sure to make ``mandel()`` a ``cdef``-ed function.  Once you're finished, use the ``cython -a`` trick to generate annotated code, and make sure there are no yellow-highlighted lines in the core of your algorithm: the loops should look completely clean!\n",
      "\n",
      "#### Part 2\n",
      "Speed up this example using Numba.  Numba is much more of a black box, but you should be able to do it very quickly. You'll likely find that simply adding the decorator to the function doesn't work.  I'll give you a hint: Numba doesn't like an array specified with ``dtype=float``. Look back to our previous example for clues about how to fix this.\n",
      "(Also, you might find [this notebook](http://nbviewer.ipython.org/f5707335f40af9463c43) to be a useful resource: it is all about doing the mandelbrot set with Numba).\n",
      "\n",
      "#### Part 3\n",
      "Use ``%timeit`` to compare your three implementations side-by-side for the values passed above.\n",
      "\n",
      "#### Part 4\n",
      "Once you have these working, choose one of the methods and use it to zoom-in on a portion of the above plot.  Go to high resolution and a large number of iterations (say 256).  Experiment with different matplotlib color schemes (see some of the options [here](http://wiki.scipy.org/Cookbook/Matplotlib/Show_colormaps)) and produce *your most beautiful visualization of the Mandelbrot set*."
     ]
    }
   ],
   "metadata": {}
  }
 ]
}